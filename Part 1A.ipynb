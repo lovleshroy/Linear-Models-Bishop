{
 "cells": [
  {
   "cell_type": "markdown",
   "id": "086bb2b4",
   "metadata": {},
   "source": [
    "# Part - A"
   ]
  },
  {
   "cell_type": "code",
   "execution_count": 1,
   "id": "728b00f8",
   "metadata": {},
   "outputs": [],
   "source": [
    "import numpy as np\n",
    "import pandas as pd\n",
    "import matplotlib.pyplot as plt\n",
    "import seaborn as sns"
   ]
  },
  {
   "cell_type": "code",
   "execution_count": 2,
   "id": "5730d3b2",
   "metadata": {},
   "outputs": [
    {
     "ename": "FileNotFoundError",
     "evalue": "[Errno 2] No such file or directory: 'train.csv'",
     "output_type": "error",
     "traceback": [
      "\u001b[1;31m---------------------------------------------------------------------------\u001b[0m",
      "\u001b[1;31mFileNotFoundError\u001b[0m                         Traceback (most recent call last)",
      "\u001b[1;32m<ipython-input-2-36fad3a7b363>\u001b[0m in \u001b[0;36m<module>\u001b[1;34m\u001b[0m\n\u001b[1;32m----> 1\u001b[1;33m \u001b[0mtrain\u001b[0m \u001b[1;33m=\u001b[0m \u001b[0mpd\u001b[0m\u001b[1;33m.\u001b[0m\u001b[0mread_csv\u001b[0m\u001b[1;33m(\u001b[0m\u001b[1;34m'train.csv'\u001b[0m\u001b[1;33m)\u001b[0m\u001b[1;33m\u001b[0m\u001b[1;33m\u001b[0m\u001b[0m\n\u001b[0m\u001b[0;32m      2\u001b[0m \u001b[0mtest\u001b[0m \u001b[1;33m=\u001b[0m \u001b[0mpd\u001b[0m\u001b[1;33m.\u001b[0m\u001b[0mread_csv\u001b[0m\u001b[1;33m(\u001b[0m\u001b[1;34m'test.csv'\u001b[0m\u001b[1;33m)\u001b[0m\u001b[1;33m\u001b[0m\u001b[1;33m\u001b[0m\u001b[0m\n",
      "\u001b[1;32m~\\anaconda3\\lib\\site-packages\\pandas\\io\\parsers.py\u001b[0m in \u001b[0;36mread_csv\u001b[1;34m(filepath_or_buffer, sep, delimiter, header, names, index_col, usecols, squeeze, prefix, mangle_dupe_cols, dtype, engine, converters, true_values, false_values, skipinitialspace, skiprows, skipfooter, nrows, na_values, keep_default_na, na_filter, verbose, skip_blank_lines, parse_dates, infer_datetime_format, keep_date_col, date_parser, dayfirst, cache_dates, iterator, chunksize, compression, thousands, decimal, lineterminator, quotechar, quoting, doublequote, escapechar, comment, encoding, dialect, error_bad_lines, warn_bad_lines, delim_whitespace, low_memory, memory_map, float_precision, storage_options)\u001b[0m\n\u001b[0;32m    608\u001b[0m     \u001b[0mkwds\u001b[0m\u001b[1;33m.\u001b[0m\u001b[0mupdate\u001b[0m\u001b[1;33m(\u001b[0m\u001b[0mkwds_defaults\u001b[0m\u001b[1;33m)\u001b[0m\u001b[1;33m\u001b[0m\u001b[1;33m\u001b[0m\u001b[0m\n\u001b[0;32m    609\u001b[0m \u001b[1;33m\u001b[0m\u001b[0m\n\u001b[1;32m--> 610\u001b[1;33m     \u001b[1;32mreturn\u001b[0m \u001b[0m_read\u001b[0m\u001b[1;33m(\u001b[0m\u001b[0mfilepath_or_buffer\u001b[0m\u001b[1;33m,\u001b[0m \u001b[0mkwds\u001b[0m\u001b[1;33m)\u001b[0m\u001b[1;33m\u001b[0m\u001b[1;33m\u001b[0m\u001b[0m\n\u001b[0m\u001b[0;32m    611\u001b[0m \u001b[1;33m\u001b[0m\u001b[0m\n\u001b[0;32m    612\u001b[0m \u001b[1;33m\u001b[0m\u001b[0m\n",
      "\u001b[1;32m~\\anaconda3\\lib\\site-packages\\pandas\\io\\parsers.py\u001b[0m in \u001b[0;36m_read\u001b[1;34m(filepath_or_buffer, kwds)\u001b[0m\n\u001b[0;32m    460\u001b[0m \u001b[1;33m\u001b[0m\u001b[0m\n\u001b[0;32m    461\u001b[0m     \u001b[1;31m# Create the parser.\u001b[0m\u001b[1;33m\u001b[0m\u001b[1;33m\u001b[0m\u001b[1;33m\u001b[0m\u001b[0m\n\u001b[1;32m--> 462\u001b[1;33m     \u001b[0mparser\u001b[0m \u001b[1;33m=\u001b[0m \u001b[0mTextFileReader\u001b[0m\u001b[1;33m(\u001b[0m\u001b[0mfilepath_or_buffer\u001b[0m\u001b[1;33m,\u001b[0m \u001b[1;33m**\u001b[0m\u001b[0mkwds\u001b[0m\u001b[1;33m)\u001b[0m\u001b[1;33m\u001b[0m\u001b[1;33m\u001b[0m\u001b[0m\n\u001b[0m\u001b[0;32m    463\u001b[0m \u001b[1;33m\u001b[0m\u001b[0m\n\u001b[0;32m    464\u001b[0m     \u001b[1;32mif\u001b[0m \u001b[0mchunksize\u001b[0m \u001b[1;32mor\u001b[0m \u001b[0miterator\u001b[0m\u001b[1;33m:\u001b[0m\u001b[1;33m\u001b[0m\u001b[1;33m\u001b[0m\u001b[0m\n",
      "\u001b[1;32m~\\anaconda3\\lib\\site-packages\\pandas\\io\\parsers.py\u001b[0m in \u001b[0;36m__init__\u001b[1;34m(self, f, engine, **kwds)\u001b[0m\n\u001b[0;32m    817\u001b[0m             \u001b[0mself\u001b[0m\u001b[1;33m.\u001b[0m\u001b[0moptions\u001b[0m\u001b[1;33m[\u001b[0m\u001b[1;34m\"has_index_names\"\u001b[0m\u001b[1;33m]\u001b[0m \u001b[1;33m=\u001b[0m \u001b[0mkwds\u001b[0m\u001b[1;33m[\u001b[0m\u001b[1;34m\"has_index_names\"\u001b[0m\u001b[1;33m]\u001b[0m\u001b[1;33m\u001b[0m\u001b[1;33m\u001b[0m\u001b[0m\n\u001b[0;32m    818\u001b[0m \u001b[1;33m\u001b[0m\u001b[0m\n\u001b[1;32m--> 819\u001b[1;33m         \u001b[0mself\u001b[0m\u001b[1;33m.\u001b[0m\u001b[0m_engine\u001b[0m \u001b[1;33m=\u001b[0m \u001b[0mself\u001b[0m\u001b[1;33m.\u001b[0m\u001b[0m_make_engine\u001b[0m\u001b[1;33m(\u001b[0m\u001b[0mself\u001b[0m\u001b[1;33m.\u001b[0m\u001b[0mengine\u001b[0m\u001b[1;33m)\u001b[0m\u001b[1;33m\u001b[0m\u001b[1;33m\u001b[0m\u001b[0m\n\u001b[0m\u001b[0;32m    820\u001b[0m \u001b[1;33m\u001b[0m\u001b[0m\n\u001b[0;32m    821\u001b[0m     \u001b[1;32mdef\u001b[0m \u001b[0mclose\u001b[0m\u001b[1;33m(\u001b[0m\u001b[0mself\u001b[0m\u001b[1;33m)\u001b[0m\u001b[1;33m:\u001b[0m\u001b[1;33m\u001b[0m\u001b[1;33m\u001b[0m\u001b[0m\n",
      "\u001b[1;32m~\\anaconda3\\lib\\site-packages\\pandas\\io\\parsers.py\u001b[0m in \u001b[0;36m_make_engine\u001b[1;34m(self, engine)\u001b[0m\n\u001b[0;32m   1048\u001b[0m             )\n\u001b[0;32m   1049\u001b[0m         \u001b[1;31m# error: Too many arguments for \"ParserBase\"\u001b[0m\u001b[1;33m\u001b[0m\u001b[1;33m\u001b[0m\u001b[1;33m\u001b[0m\u001b[0m\n\u001b[1;32m-> 1050\u001b[1;33m         \u001b[1;32mreturn\u001b[0m \u001b[0mmapping\u001b[0m\u001b[1;33m[\u001b[0m\u001b[0mengine\u001b[0m\u001b[1;33m]\u001b[0m\u001b[1;33m(\u001b[0m\u001b[0mself\u001b[0m\u001b[1;33m.\u001b[0m\u001b[0mf\u001b[0m\u001b[1;33m,\u001b[0m \u001b[1;33m**\u001b[0m\u001b[0mself\u001b[0m\u001b[1;33m.\u001b[0m\u001b[0moptions\u001b[0m\u001b[1;33m)\u001b[0m  \u001b[1;31m# type: ignore[call-arg]\u001b[0m\u001b[1;33m\u001b[0m\u001b[1;33m\u001b[0m\u001b[0m\n\u001b[0m\u001b[0;32m   1051\u001b[0m \u001b[1;33m\u001b[0m\u001b[0m\n\u001b[0;32m   1052\u001b[0m     \u001b[1;32mdef\u001b[0m \u001b[0m_failover_to_python\u001b[0m\u001b[1;33m(\u001b[0m\u001b[0mself\u001b[0m\u001b[1;33m)\u001b[0m\u001b[1;33m:\u001b[0m\u001b[1;33m\u001b[0m\u001b[1;33m\u001b[0m\u001b[0m\n",
      "\u001b[1;32m~\\anaconda3\\lib\\site-packages\\pandas\\io\\parsers.py\u001b[0m in \u001b[0;36m__init__\u001b[1;34m(self, src, **kwds)\u001b[0m\n\u001b[0;32m   1865\u001b[0m \u001b[1;33m\u001b[0m\u001b[0m\n\u001b[0;32m   1866\u001b[0m         \u001b[1;31m# open handles\u001b[0m\u001b[1;33m\u001b[0m\u001b[1;33m\u001b[0m\u001b[1;33m\u001b[0m\u001b[0m\n\u001b[1;32m-> 1867\u001b[1;33m         \u001b[0mself\u001b[0m\u001b[1;33m.\u001b[0m\u001b[0m_open_handles\u001b[0m\u001b[1;33m(\u001b[0m\u001b[0msrc\u001b[0m\u001b[1;33m,\u001b[0m \u001b[0mkwds\u001b[0m\u001b[1;33m)\u001b[0m\u001b[1;33m\u001b[0m\u001b[1;33m\u001b[0m\u001b[0m\n\u001b[0m\u001b[0;32m   1868\u001b[0m         \u001b[1;32massert\u001b[0m \u001b[0mself\u001b[0m\u001b[1;33m.\u001b[0m\u001b[0mhandles\u001b[0m \u001b[1;32mis\u001b[0m \u001b[1;32mnot\u001b[0m \u001b[1;32mNone\u001b[0m\u001b[1;33m\u001b[0m\u001b[1;33m\u001b[0m\u001b[0m\n\u001b[0;32m   1869\u001b[0m         \u001b[1;32mfor\u001b[0m \u001b[0mkey\u001b[0m \u001b[1;32min\u001b[0m \u001b[1;33m(\u001b[0m\u001b[1;34m\"storage_options\"\u001b[0m\u001b[1;33m,\u001b[0m \u001b[1;34m\"encoding\"\u001b[0m\u001b[1;33m,\u001b[0m \u001b[1;34m\"memory_map\"\u001b[0m\u001b[1;33m,\u001b[0m \u001b[1;34m\"compression\"\u001b[0m\u001b[1;33m)\u001b[0m\u001b[1;33m:\u001b[0m\u001b[1;33m\u001b[0m\u001b[1;33m\u001b[0m\u001b[0m\n",
      "\u001b[1;32m~\\anaconda3\\lib\\site-packages\\pandas\\io\\parsers.py\u001b[0m in \u001b[0;36m_open_handles\u001b[1;34m(self, src, kwds)\u001b[0m\n\u001b[0;32m   1360\u001b[0m         \u001b[0mLet\u001b[0m \u001b[0mthe\u001b[0m \u001b[0mreaders\u001b[0m \u001b[0mopen\u001b[0m \u001b[0mIOHanldes\u001b[0m \u001b[0mafter\u001b[0m \u001b[0mthey\u001b[0m \u001b[0mare\u001b[0m \u001b[0mdone\u001b[0m \u001b[1;32mwith\u001b[0m \u001b[0mtheir\u001b[0m \u001b[0mpotential\u001b[0m \u001b[0mraises\u001b[0m\u001b[1;33m.\u001b[0m\u001b[1;33m\u001b[0m\u001b[1;33m\u001b[0m\u001b[0m\n\u001b[0;32m   1361\u001b[0m         \"\"\"\n\u001b[1;32m-> 1362\u001b[1;33m         self.handles = get_handle(\n\u001b[0m\u001b[0;32m   1363\u001b[0m             \u001b[0msrc\u001b[0m\u001b[1;33m,\u001b[0m\u001b[1;33m\u001b[0m\u001b[1;33m\u001b[0m\u001b[0m\n\u001b[0;32m   1364\u001b[0m             \u001b[1;34m\"r\"\u001b[0m\u001b[1;33m,\u001b[0m\u001b[1;33m\u001b[0m\u001b[1;33m\u001b[0m\u001b[0m\n",
      "\u001b[1;32m~\\anaconda3\\lib\\site-packages\\pandas\\io\\common.py\u001b[0m in \u001b[0;36mget_handle\u001b[1;34m(path_or_buf, mode, encoding, compression, memory_map, is_text, errors, storage_options)\u001b[0m\n\u001b[0;32m    640\u001b[0m                 \u001b[0merrors\u001b[0m \u001b[1;33m=\u001b[0m \u001b[1;34m\"replace\"\u001b[0m\u001b[1;33m\u001b[0m\u001b[1;33m\u001b[0m\u001b[0m\n\u001b[0;32m    641\u001b[0m             \u001b[1;31m# Encoding\u001b[0m\u001b[1;33m\u001b[0m\u001b[1;33m\u001b[0m\u001b[1;33m\u001b[0m\u001b[0m\n\u001b[1;32m--> 642\u001b[1;33m             handle = open(\n\u001b[0m\u001b[0;32m    643\u001b[0m                 \u001b[0mhandle\u001b[0m\u001b[1;33m,\u001b[0m\u001b[1;33m\u001b[0m\u001b[1;33m\u001b[0m\u001b[0m\n\u001b[0;32m    644\u001b[0m                 \u001b[0mioargs\u001b[0m\u001b[1;33m.\u001b[0m\u001b[0mmode\u001b[0m\u001b[1;33m,\u001b[0m\u001b[1;33m\u001b[0m\u001b[1;33m\u001b[0m\u001b[0m\n",
      "\u001b[1;31mFileNotFoundError\u001b[0m: [Errno 2] No such file or directory: 'train.csv'"
     ]
    }
   ],
   "source": [
    "train = pd.read_csv('train.csv')\n",
    "test = pd.read_csv('test.csv')"
   ]
  },
  {
   "cell_type": "code",
   "execution_count": null,
   "id": "ecec7983",
   "metadata": {},
   "outputs": [],
   "source": []
  },
  {
   "cell_type": "code",
   "execution_count": null,
   "id": "e596aa7d",
   "metadata": {},
   "outputs": [],
   "source": [
    "train = pd.DataFrame(train)\n",
    "train_20 = train.copy()\n",
    "X_train = pd.DataFrame(train_20['X'])\n",
    "Y_train = pd.DataFrame(train_20['Y'])"
   ]
  },
  {
   "cell_type": "code",
   "execution_count": null,
   "id": "528529b4",
   "metadata": {},
   "outputs": [],
   "source": [
    "from sklearn.preprocessing import PolynomialFeatures\n",
    "poly = PolynomialFeatures(degree=20, include_bias=False)\n",
    "train_poly = poly.fit_transform(X_train)"
   ]
  },
  {
   "cell_type": "code",
   "execution_count": null,
   "id": "eca427af",
   "metadata": {},
   "outputs": [],
   "source": [
    "train_polyf = pd.DataFrame(train_poly)"
   ]
  },
  {
   "cell_type": "code",
   "execution_count": null,
   "id": "4140e4d3",
   "metadata": {},
   "outputs": [],
   "source": [
    "train_polyf.columns =['1','2','3','4','5','6','7','8','9','10','11','12','13','14','15','16','17','18','19','20']"
   ]
  },
  {
   "cell_type": "code",
   "execution_count": 7,
   "id": "995d407d",
   "metadata": {},
   "outputs": [
    {
     "data": {
      "text/html": [
       "<div>\n",
       "<style scoped>\n",
       "    .dataframe tbody tr th:only-of-type {\n",
       "        vertical-align: middle;\n",
       "    }\n",
       "\n",
       "    .dataframe tbody tr th {\n",
       "        vertical-align: top;\n",
       "    }\n",
       "\n",
       "    .dataframe thead th {\n",
       "        text-align: right;\n",
       "    }\n",
       "</style>\n",
       "<table border=\"1\" class=\"dataframe\">\n",
       "  <thead>\n",
       "    <tr style=\"text-align: right;\">\n",
       "      <th></th>\n",
       "      <th>1</th>\n",
       "      <th>2</th>\n",
       "    </tr>\n",
       "  </thead>\n",
       "  <tbody>\n",
       "    <tr>\n",
       "      <th>0</th>\n",
       "      <td>1.611808</td>\n",
       "      <td>2.597925</td>\n",
       "    </tr>\n",
       "    <tr>\n",
       "      <th>1</th>\n",
       "      <td>0.175400</td>\n",
       "      <td>0.030765</td>\n",
       "    </tr>\n",
       "    <tr>\n",
       "      <th>2</th>\n",
       "      <td>1.721627</td>\n",
       "      <td>2.964000</td>\n",
       "    </tr>\n",
       "    <tr>\n",
       "      <th>3</th>\n",
       "      <td>1.652429</td>\n",
       "      <td>2.730522</td>\n",
       "    </tr>\n",
       "    <tr>\n",
       "      <th>4</th>\n",
       "      <td>0.235749</td>\n",
       "      <td>0.055578</td>\n",
       "    </tr>\n",
       "    <tr>\n",
       "      <th>...</th>\n",
       "      <td>...</td>\n",
       "      <td>...</td>\n",
       "    </tr>\n",
       "    <tr>\n",
       "      <th>65</th>\n",
       "      <td>-0.485955</td>\n",
       "      <td>0.236152</td>\n",
       "    </tr>\n",
       "    <tr>\n",
       "      <th>66</th>\n",
       "      <td>-1.377462</td>\n",
       "      <td>1.897402</td>\n",
       "    </tr>\n",
       "    <tr>\n",
       "      <th>67</th>\n",
       "      <td>-0.339236</td>\n",
       "      <td>0.115081</td>\n",
       "    </tr>\n",
       "    <tr>\n",
       "      <th>68</th>\n",
       "      <td>1.034977</td>\n",
       "      <td>1.071177</td>\n",
       "    </tr>\n",
       "    <tr>\n",
       "      <th>69</th>\n",
       "      <td>1.790756</td>\n",
       "      <td>3.206807</td>\n",
       "    </tr>\n",
       "  </tbody>\n",
       "</table>\n",
       "<p>70 rows × 2 columns</p>\n",
       "</div>"
      ],
      "text/plain": [
       "           1         2\n",
       "0   1.611808  2.597925\n",
       "1   0.175400  0.030765\n",
       "2   1.721627  2.964000\n",
       "3   1.652429  2.730522\n",
       "4   0.235749  0.055578\n",
       "..       ...       ...\n",
       "65 -0.485955  0.236152\n",
       "66 -1.377462  1.897402\n",
       "67 -0.339236  0.115081\n",
       "68  1.034977  1.071177\n",
       "69  1.790756  3.206807\n",
       "\n",
       "[70 rows x 2 columns]"
      ]
     },
     "execution_count": 7,
     "metadata": {},
     "output_type": "execute_result"
    }
   ],
   "source": [
    "train_polyf.loc[:,['1','2']]"
   ]
  },
  {
   "cell_type": "code",
   "execution_count": 8,
   "id": "b7a760f6",
   "metadata": {},
   "outputs": [
    {
     "data": {
      "text/plain": [
       "<AxesSubplot:xlabel='X', ylabel='Y'>"
      ]
     },
     "execution_count": 8,
     "metadata": {},
     "output_type": "execute_result"
    },
    {
     "data": {
      "image/png": "[encoded data removed]",
      "text/plain": [
       "<Figure size 432x288 with 1 Axes>"
      ]
     },
     "metadata": {
      "needs_background": "light"
     },
     "output_type": "display_data"
    }
   ],
   "source": [
    "sns.scatterplot(x=train['X'],y=train['Y']) #With 70 data points"
   ]
  },
  {
   "cell_type": "code",
   "execution_count": 9,
   "id": "cd5448a7",
   "metadata": {},
   "outputs": [
    {
     "data": {
      "text/plain": [
       "<AxesSubplot:xlabel='X', ylabel='Y'>"
      ]
     },
     "execution_count": 9,
     "metadata": {},
     "output_type": "execute_result"
    },
    {
     "data": {
      "image/png": "[encoded data removed]",
      "text/plain": [
       "<Figure size 432x288 with 1 Axes>"
      ]
     },
     "metadata": {
      "needs_background": "light"
     },
     "output_type": "display_data"
    }
   ],
   "source": [
    "sns.scatterplot(x=X_train['X'],y=Y_train['Y']) #With 20 data Points "
   ]
  },
  {
   "cell_type": "markdown",
   "id": "6eb32df6",
   "metadata": {},
   "source": [
    "# With Train data size = 20"
   ]
  },
  {
   "cell_type": "markdown",
   "id": "0c0460c9",
   "metadata": {},
   "source": [
    "# Linear Regression Degree = 1"
   ]
  },
  {
   "cell_type": "code",
   "execution_count": 10,
   "id": "577baa29",
   "metadata": {},
   "outputs": [],
   "source": [
    "from sklearn.linear_model import LinearRegression\n",
    "reg_model = LinearRegression()"
   ]
  },
  {
   "cell_type": "code",
   "execution_count": 11,
   "id": "d432d7d0",
   "metadata": {},
   "outputs": [
    {
     "data": {
      "text/plain": [
       "LinearRegression()"
      ]
     },
     "execution_count": 11,
     "metadata": {},
     "output_type": "execute_result"
    }
   ],
   "source": [
    "#Linear Model\n",
    "reg_model.fit(train_polyf.loc[:,['1']],Y_train)"
   ]
  },
  {
   "cell_type": "code",
   "execution_count": 12,
   "id": "119ef1c6",
   "metadata": {},
   "outputs": [],
   "source": [
    "X_test = pd.DataFrame(test['X'])\n",
    "Y_test = pd.DataFrame(test['Y'])\n",
    "test_polyf = poly.fit_transform(X_test)\n"
   ]
  },
  {
   "cell_type": "code",
   "execution_count": 13,
   "id": "ed0ccb43",
   "metadata": {},
   "outputs": [],
   "source": [
    "test_polyf = pd.DataFrame(test_polyf)"
   ]
  },
  {
   "cell_type": "code",
   "execution_count": 14,
   "id": "a06ed80a",
   "metadata": {},
   "outputs": [],
   "source": [
    "test_polyf.columns =['1','2','3','4','5','6','7','8','9','10','11','12','13','14','15','16','17','18','19','20']"
   ]
  },
  {
   "cell_type": "code",
   "execution_count": 15,
   "id": "34252309",
   "metadata": {},
   "outputs": [],
   "source": [
    "y_hat = reg_model.predict(test_polyf.loc[:,['1']])"
   ]
  },
  {
   "cell_type": "code",
   "execution_count": 16,
   "id": "5363dba2",
   "metadata": {},
   "outputs": [],
   "source": [
    "data=pd.DataFrame(y_hat)\n",
    "data['1'] =test_polyf.loc[:,['1']]\n",
    "data.columns = ['y_hat','X']"
   ]
  },
  {
   "cell_type": "code",
   "execution_count": 17,
   "id": "4eb1a297",
   "metadata": {},
   "outputs": [
    {
     "data": {
      "text/plain": [
       "9217.1"
      ]
     },
     "execution_count": 17,
     "metadata": {},
     "output_type": "execute_result"
    }
   ],
   "source": [
    "#Train MSE\n",
    "Y_train_new = Y_train.copy()\n",
    "Y_train_new['y_hat']= pd.DataFrame(reg_model.predict(train_polyf.loc[:,['1']]))\n",
    "MSE_train = np.mean(np.square(Y_train_new['Y'] - Y_train_new['y_hat']))\n",
    "round(MSE_train,2)\n",
    "\n",
    "#Test MSE\n",
    "Y_test_new =Y_test.copy()\n",
    "Y_test_new['y_hat'] = pd.DataFrame(reg_model.predict(test_polyf.loc[:,['1']]))\n",
    "MSE_test = np.mean(np.square(Y_test_new['Y']-Y_test_new['y_hat']))\n",
    "round(MSE_test,2)"
   ]
  },
  {
   "cell_type": "code",
   "execution_count": 18,
   "id": "da969fac",
   "metadata": {},
   "outputs": [
    {
     "data": {
      "image/png": "[encoded data removed]",
      "text/plain": [
       "<Figure size 864x576 with 1 Axes>"
      ]
     },
     "metadata": {
      "needs_background": "light"
     },
     "output_type": "display_data"
    }
   ],
   "source": [
    "plt.figure(figsize=(12,8))\n",
    "sns.lineplot(x='X',y='y_hat', data=data)\n",
    "plt.scatter(x=X_test,y=Y_test,s=10,c='r',label=f'test MSE {round(MSE_test,1)}')\n",
    "plt.scatter(x=X_train['X'],y=Y_train['Y'], s=10,c='g',label=f'train MSE {round(MSE_train,1)}')\n",
    "plt.title('Degree 1')\n",
    "plt.legend()\n",
    "plt.show()"
   ]
  },
  {
   "cell_type": "markdown",
   "id": "10079459",
   "metadata": {},
   "source": [
    "# Linear Regression with Degree =2"
   ]
  },
  {
   "cell_type": "code",
   "execution_count": 19,
   "id": "2f2fd578",
   "metadata": {},
   "outputs": [
    {
     "data": {
      "image/png": "[encoded data removed]",
      "text/plain": [
       "<Figure size 864x576 with 1 Axes>"
      ]
     },
     "metadata": {
      "needs_background": "light"
     },
     "output_type": "display_data"
    }
   ],
   "source": [
    "#Training the model\n",
    "reg_model.fit(train_polyf.loc[:,['1','2']],Y_train)\n",
    "\n",
    "X_test = pd.DataFrame(test['X'])\n",
    "Y_test = pd.DataFrame(test['Y'])\n",
    "\n",
    "test_polyf = poly.fit_transform(X_test)\n",
    "test_polyf = pd.DataFrame(test_polyf)\n",
    "\n",
    "test_polyf.columns =['1','2','3','4','5','6','7','8','9','10','11','12','13','14','15','16','17','18','19','20']\n",
    "\n",
    "#predictions\n",
    "y_hat = reg_model.predict(test_polyf.loc[:,['1','2']])\n",
    "\n",
    "data=pd.DataFrame(y_hat)\n",
    "data['1'] =test_polyf.loc[:,['1']]\n",
    "data.columns = ['y_hat','X']\n",
    "\n",
    "#Train MSE\n",
    "Y_train_new = Y_train.copy()\n",
    "Y_train_new['y_hat']= pd.DataFrame(reg_model.predict(train_polyf.loc[:,['1','2']]))\n",
    "MSE_train = np.mean(np.square(Y_train_new['Y'] - Y_train_new['y_hat']))\n",
    "round(MSE_train,2)\n",
    "\n",
    "#Test MSE\n",
    "Y_test_new =Y_test.copy()\n",
    "Y_test_new['y_hat'] = pd.DataFrame(reg_model.predict(test_polyf.loc[:,['1','2']]))\n",
    "MSE_test = np.mean(np.square(Y_test_new['Y']-Y_test_new['y_hat']))\n",
    "round(MSE_test,2)\n",
    "\n",
    "#Plotting\n",
    "plt.figure(figsize=(12,8))\n",
    "sns.lineplot(x='X',y='y_hat', data=data)\n",
    "plt.scatter(x=X_test,y=Y_test,s=10,c='r',label=f'test MSE {round(MSE_test,1)}')\n",
    "plt.scatter(x=X_train['X'],y=Y_train['Y'], s=10,c='g',label=f'train MSE {round(MSE_train,1)}')\n",
    "plt.title('Degree 2')\n",
    "plt.legend()\n",
    "plt.show()"
   ]
  },
  {
   "cell_type": "markdown",
   "id": "3b790682",
   "metadata": {},
   "source": [
    "# Linear Regression with Degree =3"
   ]
  },
  {
   "cell_type": "code",
   "execution_count": 20,
   "id": "71938f63",
   "metadata": {},
   "outputs": [
    {
     "data": {
      "image/png": "[encoded data removed]",
      "text/plain": [
       "<Figure size 864x576 with 1 Axes>"
      ]
     },
     "metadata": {
      "needs_background": "light"
     },
     "output_type": "display_data"
    }
   ],
   "source": [
    "#Training the model\n",
    "reg_model.fit(train_polyf.loc[:,['1','2','3']],Y_train)\n",
    "\n",
    "X_test = pd.DataFrame(test['X'])\n",
    "Y_test = pd.DataFrame(test['Y'])\n",
    "\n",
    "test_polyf = poly.fit_transform(X_test)\n",
    "test_polyf = pd.DataFrame(test_polyf)\n",
    "\n",
    "test_polyf.columns =['1','2','3','4','5','6','7','8','9','10','11','12','13','14','15','16','17','18','19','20']\n",
    "\n",
    "#predictions\n",
    "y_hat = reg_model.predict(test_polyf.loc[:,['1','2','3']])\n",
    "\n",
    "data=pd.DataFrame(y_hat)\n",
    "data['1'] =test_polyf.loc[:,['1']]\n",
    "data.columns = ['y_hat','X']\n",
    "\n",
    "#Train MSE\n",
    "Y_train_new = Y_train.copy()\n",
    "Y_train_new['y_hat']= pd.DataFrame(reg_model.predict(train_polyf.loc[:,['1','2','3']]))\n",
    "MSE_train = np.mean(np.square(Y_train_new['Y'] - Y_train_new['y_hat']))\n",
    "round(MSE_train,2)\n",
    "\n",
    "#Test MSE\n",
    "Y_test_new =Y_test.copy()\n",
    "Y_test_new['y_hat'] = pd.DataFrame(reg_model.predict(test_polyf.loc[:,['1','2','3']]))\n",
    "MSE_test = np.mean(np.square(Y_test_new['Y']-Y_test_new['y_hat']))\n",
    "round(MSE_test,2)\n",
    "\n",
    "#Plotting\n",
    "plt.figure(figsize=(12,8))\n",
    "sns.lineplot(x='X',y='y_hat', data=data)\n",
    "plt.scatter(x=X_test,y=Y_test,s=10,c='r',label=f'test MSE {round(MSE_test,1)}')\n",
    "plt.scatter(x=X_train['X'],y=Y_train['Y'], s=10,c='g',label=f'train MSE {round(MSE_train,1)}')\n",
    "plt.title('Degree 3')\n",
    "plt.legend()\n",
    "plt.show()"
   ]
  },
  {
   "cell_type": "markdown",
   "id": "1051adf5",
   "metadata": {},
   "source": [
    "# Linear Regression with Degree =4"
   ]
  },
  {
   "cell_type": "code",
   "execution_count": 21,
   "id": "bcf18613",
   "metadata": {},
   "outputs": [
    {
     "data": {
      "image/png": "[encoded data removed]",
      "text/plain": [
       "<Figure size 864x576 with 1 Axes>"
      ]
     },
     "metadata": {
      "needs_background": "light"
     },
     "output_type": "display_data"
    }
   ],
   "source": [
    "#Training the model\n",
    "reg_model.fit(train_polyf.loc[:,['1','2','3','4']],Y_train)\n",
    "\n",
    "X_test = pd.DataFrame(test['X'])\n",
    "Y_test = pd.DataFrame(test['Y'])\n",
    "\n",
    "test_polyf = poly.fit_transform(X_test)\n",
    "test_polyf = pd.DataFrame(test_polyf)\n",
    "\n",
    "test_polyf.columns =['1','2','3','4','5','6','7','8','9','10','11','12','13','14','15','16','17','18','19','20']\n",
    "\n",
    "#predictions\n",
    "y_hat = reg_model.predict(test_polyf.loc[:,['1','2','3','4']])\n",
    "\n",
    "data=pd.DataFrame(y_hat)\n",
    "data['1'] =test_polyf.loc[:,['1']]\n",
    "data.columns = ['y_hat','X']\n",
    "\n",
    "#Train MSE\n",
    "Y_train_new = Y_train.copy()\n",
    "Y_train_new['y_hat']= pd.DataFrame(reg_model.predict(train_polyf.loc[:,['1','2','3','4']]))\n",
    "MSE_train = np.mean(np.square(Y_train_new['Y'] - Y_train_new['y_hat']))\n",
    "round(MSE_train,2)\n",
    "\n",
    "#Test MSE\n",
    "Y_test_new =Y_test.copy()\n",
    "Y_test_new['y_hat'] = pd.DataFrame(reg_model.predict(test_polyf.loc[:,['1','2','3','4']]))\n",
    "MSE_test = np.mean(np.square(Y_test_new['Y']-Y_test_new['y_hat']))\n",
    "round(MSE_test,2)\n",
    "\n",
    "#Plotting\n",
    "plt.figure(figsize=(12,8))\n",
    "sns.lineplot(x='X',y='y_hat', data=data)\n",
    "plt.scatter(x=X_test,y=Y_test,s=10,c='r',label=f'test MSE {round(MSE_test,1)}')\n",
    "plt.scatter(x=X_train['X'],y=Y_train['Y'], s=10,c='g',label=f'train MSE {round(MSE_train,1)}')\n",
    "plt.title('Degree 4')\n",
    "plt.legend()\n",
    "plt.show()"
   ]
  },
  {
   "cell_type": "markdown",
   "id": "0cd43b26",
   "metadata": {},
   "source": [
    "# Linear Regression with Degree =5"
   ]
  },
  {
   "cell_type": "code",
   "execution_count": 22,
   "id": "11e50bbd",
   "metadata": {},
   "outputs": [
    {
     "data": {
      "image/png": "[encoded data removed]",
      "text/plain": [
       "<Figure size 864x576 with 1 Axes>"
      ]
     },
     "metadata": {
      "needs_background": "light"
     },
     "output_type": "display_data"
    }
   ],
   "source": [
    "#Training the model\n",
    "reg_model.fit(train_polyf.loc[:,['1','2','3','4','5']],Y_train)\n",
    "\n",
    "X_test = pd.DataFrame(test['X'])\n",
    "Y_test = pd.DataFrame(test['Y'])\n",
    "\n",
    "test_polyf = poly.fit_transform(X_test)\n",
    "test_polyf = pd.DataFrame(test_polyf)\n",
    "\n",
    "test_polyf.columns =['1','2','3','4','5','6','7','8','9','10','11','12','13','14','15','16','17','18','19','20']\n",
    "\n",
    "#predictions\n",
    "y_hat = reg_model.predict(test_polyf.loc[:,['1','2','3','4','5']])\n",
    "\n",
    "data=pd.DataFrame(y_hat)\n",
    "data['1'] =test_polyf.loc[:,['1']]\n",
    "data.columns = ['y_hat','X']\n",
    "\n",
    "#Train MSE\n",
    "Y_train_new = Y_train.copy()\n",
    "Y_train_new['y_hat']= pd.DataFrame(reg_model.predict(train_polyf.loc[:,['1','2','3','4','5']]))\n",
    "MSE_train = np.mean(np.square(Y_train_new['Y'] - Y_train_new['y_hat']))\n",
    "round(MSE_train,2)\n",
    "\n",
    "#Test MSE\n",
    "Y_test_new =Y_test.copy()\n",
    "Y_test_new['y_hat'] = pd.DataFrame(reg_model.predict(test_polyf.loc[:,['1','2','3','4','5']]))\n",
    "MSE_test = np.mean(np.square(Y_test_new['Y']-Y_test_new['y_hat']))\n",
    "round(MSE_test,2)\n",
    "\n",
    "#Plotting\n",
    "plt.figure(figsize=(12,8))\n",
    "sns.lineplot(x='X',y='y_hat', data=data)\n",
    "plt.scatter(x=X_test,y=Y_test,s=10,c='r',label=f'test MSE {round(MSE_test,1)}')\n",
    "plt.scatter(x=X_train['X'],y=Y_train['Y'], s=10,c='g',label=f'train MSE {round(MSE_train,1)}')\n",
    "plt.title('Degree 5')\n",
    "plt.legend()\n",
    "plt.show()"
   ]
  },
  {
   "cell_type": "code",
   "execution_count": 23,
   "id": "d0ac7580",
   "metadata": {},
   "outputs": [
    {
     "name": "stdout",
     "output_type": "stream",
     "text": [
      "[[-27.93812721  50.01264287  24.76543577 -63.81418432   3.49299527]]\n",
      "[-30.31555344]\n"
     ]
    }
   ],
   "source": [
    "#Optimal values of coefficient and Intersept\n",
    "print(reg_model.coef_)\n",
    "print(reg_model.intercept_)"
   ]
  },
  {
   "cell_type": "code",
   "execution_count": 24,
   "id": "22241ab1",
   "metadata": {},
   "outputs": [
    {
     "data": {
      "text/plain": [
       "0.9099361799365239"
      ]
     },
     "execution_count": 24,
     "metadata": {},
     "output_type": "execute_result"
    }
   ],
   "source": [
    "from sklearn.metrics import r2_score\n",
    "r2_score(Y_test_new['Y'],Y_test_new['y_hat'])"
   ]
  },
  {
   "cell_type": "markdown",
   "id": "e60461cb",
   "metadata": {},
   "source": [
    "# Pseudoinverse - Analytical Method"
   ]
  },
  {
   "cell_type": "code",
   "execution_count": 25,
   "id": "fb662a5c",
   "metadata": {},
   "outputs": [
    {
     "data": {
      "text/plain": [
       "(70, 5)"
      ]
     },
     "execution_count": 25,
     "metadata": {},
     "output_type": "execute_result"
    }
   ],
   "source": [
    "train_polyf.loc[:,['1','2','3','4','5']].shape"
   ]
  },
  {
   "cell_type": "code",
   "execution_count": 26,
   "id": "1d927ab9",
   "metadata": {},
   "outputs": [
    {
     "data": {
      "text/plain": [
       "(70, 1)"
      ]
     },
     "execution_count": 26,
     "metadata": {},
     "output_type": "execute_result"
    }
   ],
   "source": [
    "Y_train.shape"
   ]
  },
  {
   "cell_type": "code",
   "execution_count": 27,
   "id": "986c6404",
   "metadata": {},
   "outputs": [
    {
     "data": {
      "text/plain": [
       "array([1., 1., 1., 1., 1., 1., 1., 1., 1., 1., 1., 1., 1., 1., 1., 1., 1.,\n",
       "       1., 1., 1., 1., 1., 1., 1., 1., 1., 1., 1., 1., 1., 1., 1., 1., 1.,\n",
       "       1., 1., 1., 1., 1., 1., 1., 1., 1., 1., 1., 1., 1., 1., 1., 1., 1.,\n",
       "       1., 1., 1., 1., 1., 1., 1., 1., 1., 1., 1., 1., 1., 1., 1., 1., 1.,\n",
       "       1., 1.])"
      ]
     },
     "execution_count": 27,
     "metadata": {},
     "output_type": "execute_result"
    }
   ],
   "source": [
    "x0 = np.ones(70)\n",
    "x0"
   ]
  },
  {
   "cell_type": "code",
   "execution_count": 28,
   "id": "f3f756cb",
   "metadata": {},
   "outputs": [],
   "source": [
    "X = np.concatenate((np.matrix(x0).T,np.matrix(train_polyf.loc[:,['1','2','3','4','5']])),axis=1)"
   ]
  },
  {
   "cell_type": "code",
   "execution_count": 29,
   "id": "9b98a649",
   "metadata": {},
   "outputs": [
    {
     "data": {
      "text/plain": [
       "(70, 6)"
      ]
     },
     "execution_count": 29,
     "metadata": {},
     "output_type": "execute_result"
    }
   ],
   "source": [
    "X.shape"
   ]
  },
  {
   "cell_type": "code",
   "execution_count": 30,
   "id": "ded68ff5",
   "metadata": {},
   "outputs": [],
   "source": [
    "w = np.dot(np.linalg.pinv(X),Y_train)"
   ]
  },
  {
   "cell_type": "code",
   "execution_count": 31,
   "id": "b92b58e3",
   "metadata": {},
   "outputs": [
    {
     "data": {
      "text/plain": [
       "matrix([[-30.31555344],\n",
       "        [-27.93812721],\n",
       "        [ 50.01264287],\n",
       "        [ 24.76543577],\n",
       "        [-63.81418432],\n",
       "        [  3.49299527]])"
      ]
     },
     "execution_count": 31,
     "metadata": {},
     "output_type": "execute_result"
    }
   ],
   "source": [
    "w"
   ]
  },
  {
   "cell_type": "code",
   "execution_count": 32,
   "id": "1d92e85b",
   "metadata": {},
   "outputs": [],
   "source": [
    "coefff = [[-27.93812721  ,50.01264287  ,24.76543577, -63.81418432 ,  3.49299527]]\n",
    "inter = [-30.31555344] #with 70 Data points"
   ]
  },
  {
   "cell_type": "code",
   "execution_count": 33,
   "id": "ac688825",
   "metadata": {},
   "outputs": [],
   "source": [
    "coefff= [[-43.40922505,  11.33637161  ,72.74017468 ,-46.48216736, -14.70086315]]\n",
    "inter= [-25.32400518] #20 Data points"
   ]
  },
  {
   "cell_type": "markdown",
   "id": "7d7fdc40",
   "metadata": {},
   "source": [
    "# Linear Regression with Degree =6"
   ]
  },
  {
   "cell_type": "code",
   "execution_count": 34,
   "id": "0032d1f6",
   "metadata": {},
   "outputs": [
    {
     "data": {
      "image/png": "[encoded data removed]",
      "text/plain": [
       "<Figure size 864x576 with 1 Axes>"
      ]
     },
     "metadata": {
      "needs_background": "light"
     },
     "output_type": "display_data"
    }
   ],
   "source": [
    "#Training the model\n",
    "reg_model.fit(train_polyf.loc[:,['1','2','3','4','5','6']],Y_train)\n",
    "\n",
    "X_test = pd.DataFrame(test['X'])\n",
    "Y_test = pd.DataFrame(test['Y'])\n",
    "\n",
    "test_polyf = poly.fit_transform(X_test)\n",
    "test_polyf = pd.DataFrame(test_polyf)\n",
    "\n",
    "test_polyf.columns =['1','2','3','4','5','6','7','8','9','10','11','12','13','14','15','16','17','18','19','20']\n",
    "\n",
    "#predictions\n",
    "y_hat = reg_model.predict(test_polyf.loc[:,['1','2','3','4','5','6']])\n",
    "\n",
    "data=pd.DataFrame(y_hat)\n",
    "data['1'] =test_polyf.loc[:,['1']]\n",
    "data.columns = ['y_hat','X']\n",
    "\n",
    "#Train MSE\n",
    "Y_train_new = Y_train.copy()\n",
    "Y_train_new['y_hat']= pd.DataFrame(reg_model.predict(train_polyf.loc[:,['1','2','3','4','5','6']]))\n",
    "MSE_train = np.mean(np.square(Y_train_new['Y'] - Y_train_new['y_hat']))\n",
    "round(MSE_train,2)\n",
    "\n",
    "#Test MSE\n",
    "Y_test_new =Y_test.copy()\n",
    "Y_test_new['y_hat'] = pd.DataFrame(reg_model.predict(test_polyf.loc[:,['1','2','3','4','5','6']]))\n",
    "MSE_test = np.mean(np.square(Y_test_new['Y']-Y_test_new['y_hat']))\n",
    "round(MSE_test,2)\n",
    "\n",
    "#Plotting\n",
    "plt.figure(figsize=(12,8))\n",
    "sns.lineplot(x='X',y='y_hat', data=data)\n",
    "plt.scatter(x=X_test,y=Y_test,s=10,c='r',label=f'test MSE {round(MSE_test,1)}')\n",
    "plt.scatter(x=X_train['X'],y=Y_train['Y'], s=10,c='g',label=f'train MSE {round(MSE_train,1)}')\n",
    "plt.title('Degree 5')\n",
    "plt.legend()\n",
    "plt.show()"
   ]
  },
  {
   "cell_type": "markdown",
   "id": "4fa32213",
   "metadata": {},
   "source": [
    "# error plot"
   ]
  },
  {
   "cell_type": "code",
   "execution_count": 35,
   "id": "19df6143",
   "metadata": {},
   "outputs": [],
   "source": [
    "def my_polynomial_regression(poly_degree):\n",
    "    i = poly_degree\n",
    "    l=['1','2','3','4','5','6','7','8','9','10','11','12','13','14','15','16','17','18','19','20']\n",
    "    reg_model.fit(train_polyf.loc[:,l[0:i]],Y_train)\n",
    "\n",
    "    X_test = pd.DataFrame(test['X'])\n",
    "    Y_test = pd.DataFrame(test['Y'])\n",
    "\n",
    "    test_polyf = poly.fit_transform(X_test)\n",
    "    test_polyf = pd.DataFrame(test_polyf)\n",
    "\n",
    "    test_polyf.columns =['1','2','3','4','5','6','7','8','9','10','11','12','13','14','15','16','17','18','19','20']\n",
    "\n",
    "    #predictions\n",
    "    y_hat = reg_model.predict(test_polyf.loc[:,l[0:i]])\n",
    "\n",
    "    data=pd.DataFrame(y_hat)\n",
    "    data['1'] =test_polyf.loc[:,['1']]\n",
    "    data.columns = ['y_hat','X']\n",
    "\n",
    "    #Train MSE\n",
    "    Y_train_new = Y_train.copy()\n",
    "    Y_train_new['y_hat']= pd.DataFrame(reg_model.predict(train_polyf.loc[:,l[0:i]]))\n",
    "    MSE_train = np.mean(np.square(Y_train_new['Y'] - Y_train_new['y_hat']))\n",
    "    round(MSE_train,2)\n",
    "\n",
    "    #Test MSE\n",
    "    Y_test_new =Y_test.copy()\n",
    "    Y_test_new['y_hat'] = pd.DataFrame(reg_model.predict(test_polyf.loc[:,l[0:i]]))\n",
    "    MSE_test = np.mean(np.square(Y_test_new['Y']-Y_test_new['y_hat']))\n",
    "    round(MSE_test,2)\n",
    "    \n",
    "    return poly_degree, round(MSE_train,2),round(MSE_test,2)"
   ]
  },
  {
   "cell_type": "code",
   "execution_count": 36,
   "id": "a2854901",
   "metadata": {},
   "outputs": [
    {
     "data": {
      "text/plain": [
       "(1, 31182.02, 9217.1)"
      ]
     },
     "execution_count": 36,
     "metadata": {},
     "output_type": "execute_result"
    }
   ],
   "source": [
    "my_polynomial_regression(1)"
   ]
  },
  {
   "cell_type": "code",
   "execution_count": 37,
   "id": "f3efff4c",
   "metadata": {},
   "outputs": [
    {
     "data": {
      "text/plain": [
       "(2, 6109.88, 3270.17)"
      ]
     },
     "execution_count": 37,
     "metadata": {},
     "output_type": "execute_result"
    }
   ],
   "source": [
    "my_polynomial_regression(2)"
   ]
  },
  {
   "cell_type": "code",
   "execution_count": 38,
   "id": "54c3154f",
   "metadata": {},
   "outputs": [
    {
     "data": {
      "text/plain": [
       "(3, 5317.4, 3471.18)"
      ]
     },
     "execution_count": 38,
     "metadata": {},
     "output_type": "execute_result"
    }
   ],
   "source": [
    "my_polynomial_regression(3)"
   ]
  },
  {
   "cell_type": "code",
   "execution_count": 39,
   "id": "ed7dc6ac",
   "metadata": {},
   "outputs": [
    {
     "data": {
      "text/html": [
       "<div>\n",
       "<style scoped>\n",
       "    .dataframe tbody tr th:only-of-type {\n",
       "        vertical-align: middle;\n",
       "    }\n",
       "\n",
       "    .dataframe tbody tr th {\n",
       "        vertical-align: top;\n",
       "    }\n",
       "\n",
       "    .dataframe thead th {\n",
       "        text-align: right;\n",
       "    }\n",
       "</style>\n",
       "<table border=\"1\" class=\"dataframe\">\n",
       "  <thead>\n",
       "    <tr style=\"text-align: right;\">\n",
       "      <th></th>\n",
       "      <th>Degree</th>\n",
       "      <th>RMSE_train</th>\n",
       "      <th>RMSE_test</th>\n",
       "    </tr>\n",
       "  </thead>\n",
       "  <tbody>\n",
       "    <tr>\n",
       "      <th>0</th>\n",
       "      <td>1</td>\n",
       "      <td>31182.02</td>\n",
       "      <td>9217.10</td>\n",
       "    </tr>\n",
       "    <tr>\n",
       "      <th>1</th>\n",
       "      <td>2</td>\n",
       "      <td>6109.88</td>\n",
       "      <td>3270.17</td>\n",
       "    </tr>\n",
       "    <tr>\n",
       "      <th>2</th>\n",
       "      <td>3</td>\n",
       "      <td>5317.40</td>\n",
       "      <td>3471.18</td>\n",
       "    </tr>\n",
       "    <tr>\n",
       "      <th>3</th>\n",
       "      <td>4</td>\n",
       "      <td>365.05</td>\n",
       "      <td>614.48</td>\n",
       "    </tr>\n",
       "    <tr>\n",
       "      <th>4</th>\n",
       "      <td>5</td>\n",
       "      <td>350.91</td>\n",
       "      <td>571.88</td>\n",
       "    </tr>\n",
       "    <tr>\n",
       "      <th>5</th>\n",
       "      <td>6</td>\n",
       "      <td>304.78</td>\n",
       "      <td>405.52</td>\n",
       "    </tr>\n",
       "    <tr>\n",
       "      <th>6</th>\n",
       "      <td>7</td>\n",
       "      <td>294.48</td>\n",
       "      <td>394.68</td>\n",
       "    </tr>\n",
       "    <tr>\n",
       "      <th>7</th>\n",
       "      <td>8</td>\n",
       "      <td>293.66</td>\n",
       "      <td>387.32</td>\n",
       "    </tr>\n",
       "  </tbody>\n",
       "</table>\n",
       "</div>"
      ],
      "text/plain": [
       "   Degree  RMSE_train  RMSE_test\n",
       "0       1    31182.02    9217.10\n",
       "1       2     6109.88    3270.17\n",
       "2       3     5317.40    3471.18\n",
       "3       4      365.05     614.48\n",
       "4       5      350.91     571.88\n",
       "5       6      304.78     405.52\n",
       "6       7      294.48     394.68\n",
       "7       8      293.66     387.32"
      ]
     },
     "execution_count": 39,
     "metadata": {},
     "output_type": "execute_result"
    }
   ],
   "source": [
    "returns= []\n",
    "for i in range(1,9):\n",
    "    returns.append(my_polynomial_regression(poly_degree=i))\n",
    "    \n",
    "output = pd.DataFrame(returns, columns=['Degree', 'RMSE_train', 'RMSE_test'])\n",
    "output"
   ]
  },
  {
   "cell_type": "code",
   "execution_count": 40,
   "id": "c4940bb6",
   "metadata": {},
   "outputs": [
    {
     "data": {
      "text/plain": [
       "<Figure size 864x576 with 0 Axes>"
      ]
     },
     "metadata": {},
     "output_type": "display_data"
    },
    {
     "data": {
      "image/png": "[encoded data removed]",
      "text/plain": [
       "<Figure size 432x288 with 1 Axes>"
      ]
     },
     "metadata": {
      "needs_background": "light"
     },
     "output_type": "display_data"
    }
   ],
   "source": [
    "plt.figure(figsize=(12,8))\n",
    "output.set_index('Degree').plot()\n",
    "plt.show()"
   ]
  },
  {
   "cell_type": "markdown",
   "id": "7121d44f",
   "metadata": {},
   "source": [
    "# Mini Batch Gradient Descent"
   ]
  },
  {
   "cell_type": "code",
   "execution_count": 41,
   "id": "c19ae0d1",
   "metadata": {},
   "outputs": [],
   "source": [
    "import numpy as np\n",
    "from sklearn.linear_model import LinearRegression\n",
    "from sklearn.metrics import r2_score\n",
    "from sklearn.model_selection import train_test_split"
   ]
  },
  {
   "cell_type": "code",
   "execution_count": 42,
   "id": "bc93d5f3",
   "metadata": {},
   "outputs": [],
   "source": [
    "X_train,X_test,y_train,y_test = train_test_split(train_polyf.loc[:,['1','2','3','4','5']],Y_train,test_size=0.01,random_state=2)"
   ]
  },
  {
   "cell_type": "code",
   "execution_count": 43,
   "id": "0df8faa5",
   "metadata": {},
   "outputs": [],
   "source": [
    "y_train = np.array(y_train)\n",
    "X_train = np.array(X_train)"
   ]
  },
  {
   "cell_type": "code",
   "execution_count": 44,
   "id": "83bca121",
   "metadata": {},
   "outputs": [],
   "source": [
    "y_train = y_train.reshape(-1)"
   ]
  },
  {
   "cell_type": "code",
   "execution_count": 45,
   "id": "d4972b71",
   "metadata": {},
   "outputs": [
    {
     "name": "stdout",
     "output_type": "stream",
     "text": [
      "(69, 5)\n",
      "(69,)\n"
     ]
    }
   ],
   "source": [
    "print(X_train.shape)\n",
    "print(y_train.shape)"
   ]
  },
  {
   "cell_type": "code",
   "execution_count": null,
   "id": "2712275a",
   "metadata": {},
   "outputs": [],
   "source": []
  },
  {
   "cell_type": "code",
   "execution_count": null,
   "id": "d74aab27",
   "metadata": {},
   "outputs": [],
   "source": []
  },
  {
   "cell_type": "code",
   "execution_count": null,
   "id": "5270f7c2",
   "metadata": {},
   "outputs": [],
   "source": []
  },
  {
   "cell_type": "code",
   "execution_count": null,
   "id": "b306b9d0",
   "metadata": {},
   "outputs": [],
   "source": []
  },
  {
   "cell_type": "code",
   "execution_count": null,
   "id": "0419ba8c",
   "metadata": {},
   "outputs": [],
   "source": []
  },
  {
   "cell_type": "code",
   "execution_count": null,
   "id": "0b3c9ecc",
   "metadata": {},
   "outputs": [],
   "source": []
  },
  {
   "cell_type": "code",
   "execution_count": 46,
   "id": "41f3b323",
   "metadata": {},
   "outputs": [],
   "source": [
    "import random\n",
    "class MBGDRegressor:\n",
    "    \n",
    "    def __init__(self,batch_size,learning_rate=0.01,epochs=100):\n",
    "        \n",
    "        self.coef_ = None\n",
    "        self.intercept_ = None\n",
    "        self.lr = learning_rate\n",
    "        self.epochs = epochs\n",
    "        self.batch_size = batch_size\n",
    "        \n",
    "    def fit(self,X_train,y_train):\n",
    "        # init your coefs\n",
    "        self.intercept_ = 0\n",
    "        self.coef_ = np.ones(X_train.shape[1])\n",
    "        l4=[]\n",
    "        l5=[]\n",
    "        for i in range(self.epochs):\n",
    "            \n",
    "            for j in range(int(X_train.shape[0]/self.batch_size)):\n",
    "                \n",
    "                idx = random.sample(range(X_train.shape[0]),self.batch_size)\n",
    "                \n",
    "                y_hat = np.dot(X_train[idx],self.coef_) + self.intercept_\n",
    "                #print(\"Shape of y_hat\",y_hat.shape)\n",
    "                intercept_der = -2 * np.mean(y_train[idx] - y_hat)\n",
    "                self.intercept_ = self.intercept_ - (self.lr * intercept_der)\n",
    "\n",
    "                coef_der = -2 * np.dot((y_train[idx] - y_hat),X_train[idx])\n",
    "                self.coef_ = self.coef_ - (self.lr * coef_der)\n",
    "                \n",
    "            Y_train_new =pd.DataFrame(y_train.copy(),columns=['Y'])\n",
    "            Y_train_new['y_hat'] = pd.DataFrame((np.dot(X_train,self.coef_) + self.intercept_))\n",
    "            MSE_train = np.mean(np.square(Y_train_new['Y']-Y_train_new['y_hat']))\n",
    "            l4.append(MSE_train)\n",
    "            l5.append(i)\n",
    "        print(self.intercept_,self.coef_)\n",
    "        return l4,l5\n",
    "        \n",
    "        \n",
    "    \n",
    "    def predict(self,X_test):\n",
    "        return np.dot(X_test,self.coef_) + self.intercept_"
   ]
  },
  {
   "cell_type": "code",
   "execution_count": 47,
   "id": "e7dfd690",
   "metadata": {
    "scrolled": true
   },
   "outputs": [
    {
     "name": "stdout",
     "output_type": "stream",
     "text": [
      "-12.43806949979695 [ -6.36935458  10.281606     7.64713755 -52.91191293   5.66279227]\n"
     ]
    },
    {
     "data": {
      "text/plain": [
       "681.9991995188616"
      ]
     },
     "execution_count": 47,
     "metadata": {},
     "output_type": "execute_result"
    }
   ],
   "source": [
    "#loss plot\n",
    "mbr = MBGDRegressor(batch_size=int(X_train.shape[0]/20),\n",
    "                    learning_rate=0.0005\n",
    "                    ,epochs=100)\n",
    "loss,epo = mbr.fit(X_train,y_train)\n",
    "X_test = pd.DataFrame(test['X'])\n",
    "Y_test = pd.DataFrame(test['Y'])\n",
    "\n",
    "test_polyf = poly.fit_transform(X_test)\n",
    "test_polyf = pd.DataFrame(test_polyf)\n",
    "\n",
    "test_polyf.columns =['1','2','3','4','5','6','7','8','9','10','11','12','13','14','15','16','17','18','19','20']\n",
    "\n",
    "y_hat = mbr.predict(test_polyf.loc[:,['1','2','3','4','5']])\n",
    "\n",
    "#Test MSE\n",
    "Y_test_new =Y_test.copy()\n",
    "Y_test_new['y_hat'] = pd.DataFrame(mbr.predict(test_polyf.loc[:,['1','2','3','4','5']]))\n",
    "MSE_test = np.mean(np.square(Y_test_new['Y']-Y_test_new['y_hat']))\n",
    "MSE_test"
   ]
  },
  {
   "cell_type": "code",
   "execution_count": 48,
   "id": "9e6e572d",
   "metadata": {},
   "outputs": [],
   "source": [
    "coefff= [[-43.40922505,  11.33637161  ,72.74017468 ,-46.48216736, -14.70086315]]\n",
    "inter= [-25.32400518] #with 20 Data Points"
   ]
  },
  {
   "cell_type": "code",
   "execution_count": 49,
   "id": "2308e108",
   "metadata": {},
   "outputs": [],
   "source": [
    "coefff = [[-27.93812721  ,50.01264287  ,24.76543577, -63.81418432 ,  3.49299527]]\n",
    "inter = [-30.31555344] #with 70 data points"
   ]
  },
  {
   "cell_type": "code",
   "execution_count": 50,
   "id": "7b9ef250",
   "metadata": {},
   "outputs": [
    {
     "data": {
      "text/plain": [
       "Text(0.5, 1.0, 'Loss vs number of iterations')"
      ]
     },
     "execution_count": 50,
     "metadata": {},
     "output_type": "execute_result"
    },
    {
     "data": {
      "image/png": "[encoded data removed]",
      "text/plain": [
       "<Figure size 432x288 with 1 Axes>"
      ]
     },
     "metadata": {
      "needs_background": "light"
     },
     "output_type": "display_data"
    }
   ],
   "source": [
    "sns.lineplot(y=loss,x=epo)\n",
    "plt.xlabel('epochs')\n",
    "plt.ylabel('MSE Test set')\n",
    "plt.title('Loss vs number of iterations')"
   ]
  },
  {
   "cell_type": "markdown",
   "id": "a56fdf73",
   "metadata": {},
   "source": [
    "# Finding the optimal learning rate"
   ]
  },
  {
   "cell_type": "code",
   "execution_count": 95,
   "id": "90e36ec9",
   "metadata": {},
   "outputs": [],
   "source": [
    "arr =np.linspace(0.0001,0.0004,100)"
   ]
  },
  {
   "cell_type": "code",
   "execution_count": null,
   "id": "1a89b22e",
   "metadata": {},
   "outputs": [],
   "source": [
    "l=[]\n",
    "for i in arr:\n",
    "\n",
    "    mbr = MBGDRegressor(batch_size=int(X_train.shape[0]/10),\n",
    "                    learning_rate=i,epochs=25)\n",
    "    mbr.fit(X_train,y_train)\n",
    "\n",
    "    X_test = pd.DataFrame(test['X'])\n",
    "    Y_test = pd.DataFrame(test['Y'])\n",
    "\n",
    "    test_polyf = poly.fit_transform(X_test)\n",
    "    test_polyf = pd.DataFrame(test_polyf)\n",
    "\n",
    "    test_polyf.columns =['1','2','3','4','5','6','7','8','9','10','11','12','13','14','15','16','17','18','19','20']\n",
    "\n",
    "    y_hat = mbr.predict(test_polyf.loc[:,['1','2','3','4','5','6']])\n",
    "\n",
    "    #Test MSE\n",
    "    Y_test_new =Y_test.copy()\n",
    "    Y_test_new['y_hat'] = pd.DataFrame(mbr.predict(test_polyf.loc[:,['1','2','3','4','5','6']]))\n",
    "    MSE_test = np.mean(np.square(Y_test_new['Y']-Y_test_new['y_hat']))\n",
    "    l.append(round(MSE_test,2))"
   ]
  },
  {
   "cell_type": "code",
   "execution_count": 97,
   "id": "2548de04",
   "metadata": {},
   "outputs": [],
   "source": [
    "for i in range(0,len(l)):\n",
    "    if l[i]==min(l):\n",
    "         print(i)"
   ]
  },
  {
   "cell_type": "code",
   "execution_count": null,
   "id": "c05bb20c",
   "metadata": {},
   "outputs": [],
   "source": [
    "min(l)"
   ]
  },
  {
   "cell_type": "code",
   "execution_count": 99,
   "id": "9c2de8b6",
   "metadata": {},
   "outputs": [
    {
     "data": {
      "text/plain": [
       "0.0036505050505050503"
      ]
     },
     "execution_count": 99,
     "metadata": {},
     "output_type": "execute_result"
    }
   ],
   "source": [
    "np.linspace(0.0036,0.0038,100)[25]"
   ]
  },
  {
   "cell_type": "code",
   "execution_count": 100,
   "id": "552cd1f4",
   "metadata": {},
   "outputs": [],
   "source": [
    "#[[-43.40922505  11.33637161  72.74017468 -46.48216736 -14.70086315]]\n",
    "#[-25.32400518]"
   ]
  },
  {
   "cell_type": "code",
   "execution_count": null,
   "id": "53558d24",
   "metadata": {},
   "outputs": [],
   "source": []
  },
  {
   "cell_type": "code",
   "execution_count": null,
   "id": "6b2ef213",
   "metadata": {},
   "outputs": [],
   "source": []
  },
  {
   "cell_type": "code",
   "execution_count": null,
   "id": "48a56db2",
   "metadata": {},
   "outputs": [],
   "source": []
  },
  {
   "cell_type": "code",
   "execution_count": null,
   "id": "ffae93bf",
   "metadata": {},
   "outputs": [],
   "source": []
  },
  {
   "cell_type": "code",
   "execution_count": null,
   "id": "845119af",
   "metadata": {},
   "outputs": [],
   "source": []
  },
  {
   "cell_type": "code",
   "execution_count": null,
   "id": "c412e9dc",
   "metadata": {},
   "outputs": [],
   "source": []
  },
  {
   "cell_type": "code",
   "execution_count": 101,
   "id": "86c1c780",
   "metadata": {},
   "outputs": [],
   "source": [
    "from sklearn.linear_model import SGDRegressor\n",
    "sgd = SGDRegressor(learning_rate='constant',eta0=0.01)\n",
    "batch_size = 2\n",
    "\n",
    "\n",
    "for i in range(600):\n",
    "    \n",
    "    idx = random.sample(range(X_train.shape[0]),batch_size)\n",
    "    sgd.partial_fit(X_train[idx],y_train[idx])"
   ]
  },
  {
   "cell_type": "code",
   "execution_count": 102,
   "id": "3d5b7930",
   "metadata": {},
   "outputs": [
    {
     "data": {
      "text/plain": [
       "array([  6.96304488,  -1.57753343,  32.50126228, -37.08814868,\n",
       "        -1.01433335])"
      ]
     },
     "execution_count": 102,
     "metadata": {},
     "output_type": "execute_result"
    }
   ],
   "source": [
    "sgd.coef_"
   ]
  },
  {
   "cell_type": "code",
   "execution_count": 103,
   "id": "0437a568",
   "metadata": {},
   "outputs": [
    {
     "data": {
      "text/plain": [
       "array([-22.32150105])"
      ]
     },
     "execution_count": 103,
     "metadata": {},
     "output_type": "execute_result"
    }
   ],
   "source": [
    "sgd.intercept_"
   ]
  },
  {
   "cell_type": "code",
   "execution_count": null,
   "id": "d8bb5846",
   "metadata": {},
   "outputs": [],
   "source": []
  },
  {
   "cell_type": "code",
   "execution_count": null,
   "id": "0797f197",
   "metadata": {},
   "outputs": [],
   "source": []
  },
  {
   "cell_type": "code",
   "execution_count": null,
   "id": "6482a000",
   "metadata": {},
   "outputs": [],
   "source": []
  },
  {
   "cell_type": "code",
   "execution_count": 51,
   "id": "ef395e21",
   "metadata": {},
   "outputs": [],
   "source": [
    "X_test = test_polyf.loc[:,['1','2','3','4','5']]\n",
    "y_test =Y_test.copy()"
   ]
  },
  {
   "cell_type": "code",
   "execution_count": 52,
   "id": "6599a15c",
   "metadata": {},
   "outputs": [
    {
     "data": {
      "text/html": [
       "<div>\n",
       "<style scoped>\n",
       "    .dataframe tbody tr th:only-of-type {\n",
       "        vertical-align: middle;\n",
       "    }\n",
       "\n",
       "    .dataframe tbody tr th {\n",
       "        vertical-align: top;\n",
       "    }\n",
       "\n",
       "    .dataframe thead th {\n",
       "        text-align: right;\n",
       "    }\n",
       "</style>\n",
       "<table border=\"1\" class=\"dataframe\">\n",
       "  <thead>\n",
       "    <tr style=\"text-align: right;\">\n",
       "      <th></th>\n",
       "      <th>0</th>\n",
       "    </tr>\n",
       "  </thead>\n",
       "  <tbody>\n",
       "    <tr>\n",
       "      <th>count</th>\n",
       "      <td>69.000000</td>\n",
       "    </tr>\n",
       "    <tr>\n",
       "      <th>mean</th>\n",
       "      <td>-130.939202</td>\n",
       "    </tr>\n",
       "    <tr>\n",
       "      <th>std</th>\n",
       "      <td>179.273483</td>\n",
       "    </tr>\n",
       "    <tr>\n",
       "      <th>min</th>\n",
       "      <td>-977.767748</td>\n",
       "    </tr>\n",
       "    <tr>\n",
       "      <th>25%</th>\n",
       "      <td>-192.044164</td>\n",
       "    </tr>\n",
       "    <tr>\n",
       "      <th>50%</th>\n",
       "      <td>-52.895459</td>\n",
       "    </tr>\n",
       "    <tr>\n",
       "      <th>75%</th>\n",
       "      <td>-23.478322</td>\n",
       "    </tr>\n",
       "    <tr>\n",
       "      <th>max</th>\n",
       "      <td>10.711997</td>\n",
       "    </tr>\n",
       "  </tbody>\n",
       "</table>\n",
       "</div>"
      ],
      "text/plain": [
       "                0\n",
       "count   69.000000\n",
       "mean  -130.939202\n",
       "std    179.273483\n",
       "min   -977.767748\n",
       "25%   -192.044164\n",
       "50%    -52.895459\n",
       "75%    -23.478322\n",
       "max     10.711997"
      ]
     },
     "execution_count": 52,
     "metadata": {},
     "output_type": "execute_result"
    }
   ],
   "source": [
    "pd.DataFrame(y_train).describe()"
   ]
  },
  {
   "cell_type": "code",
   "execution_count": null,
   "id": "a1bd326d",
   "metadata": {},
   "outputs": [],
   "source": []
  },
  {
   "cell_type": "code",
   "execution_count": null,
   "id": "4b5ca84a",
   "metadata": {},
   "outputs": [],
   "source": [
    "\n"
   ]
  },
  {
   "cell_type": "code",
   "execution_count": null,
   "id": "b787645c",
   "metadata": {},
   "outputs": [],
   "source": []
  },
  {
   "cell_type": "code",
   "execution_count": 53,
   "id": "72f51145",
   "metadata": {},
   "outputs": [],
   "source": [
    "y_test = np.array(y_test)"
   ]
  },
  {
   "cell_type": "code",
   "execution_count": null,
   "id": "abb1477a",
   "metadata": {},
   "outputs": [],
   "source": []
  },
  {
   "cell_type": "markdown",
   "id": "c26b65c4",
   "metadata": {},
   "source": [
    "# Regularisation"
   ]
  },
  {
   "cell_type": "code",
   "execution_count": 54,
   "id": "6bf5e8f8",
   "metadata": {},
   "outputs": [],
   "source": [
    "from sklearn.linear_model import LinearRegression, Ridge,RidgeCV, Lasso, LassoCV, ElasticNet, ElasticNetCV"
   ]
  },
  {
   "cell_type": "code",
   "execution_count": 55,
   "id": "d54fe3c8",
   "metadata": {},
   "outputs": [],
   "source": [
    "# starting with default parameters:\n",
    "model_linear = LinearRegression()\n",
    "model_ridge = Ridge()\n",
    "model_lasso = Lasso()\n",
    "model_net = ElasticNet()"
   ]
  },
  {
   "cell_type": "code",
   "execution_count": 56,
   "id": "57c4ead3",
   "metadata": {},
   "outputs": [],
   "source": [
    "y_hat_linear= model_linear.fit(X_train, y_train).predict(X_test)\n",
    "y_hat_ridge = model_ridge.fit(X_train, y_train).predict(X_test)\n",
    "y_hat_lasso = model_lasso.fit(X_train, y_train).predict(X_test)\n",
    "y_hat_net   = model_net.fit(X_train, y_train).predict(X_test)"
   ]
  },
  {
   "cell_type": "code",
   "execution_count": 57,
   "id": "48083297",
   "metadata": {},
   "outputs": [
    {
     "data": {
      "text/html": [
       "<div>\n",
       "<style scoped>\n",
       "    .dataframe tbody tr th:only-of-type {\n",
       "        vertical-align: middle;\n",
       "    }\n",
       "\n",
       "    .dataframe tbody tr th {\n",
       "        vertical-align: top;\n",
       "    }\n",
       "\n",
       "    .dataframe thead th {\n",
       "        text-align: right;\n",
       "    }\n",
       "</style>\n",
       "<table border=\"1\" class=\"dataframe\">\n",
       "  <thead>\n",
       "    <tr style=\"text-align: right;\">\n",
       "      <th></th>\n",
       "      <th>y_test</th>\n",
       "      <th>y_hat_linear</th>\n",
       "      <th>y_hat_ridge</th>\n",
       "      <th>y_hat_lasso</th>\n",
       "      <th>y_hat_net</th>\n",
       "    </tr>\n",
       "  </thead>\n",
       "  <tbody>\n",
       "    <tr>\n",
       "      <th>0</th>\n",
       "      <td>-52.110296</td>\n",
       "      <td>-27.432663</td>\n",
       "      <td>-26.042923</td>\n",
       "      <td>-27.292987</td>\n",
       "      <td>-17.733095</td>\n",
       "    </tr>\n",
       "    <tr>\n",
       "      <th>1</th>\n",
       "      <td>-35.382308</td>\n",
       "      <td>-14.149082</td>\n",
       "      <td>-19.040387</td>\n",
       "      <td>-27.425861</td>\n",
       "      <td>-38.063800</td>\n",
       "    </tr>\n",
       "    <tr>\n",
       "      <th>2</th>\n",
       "      <td>-433.925695</td>\n",
       "      <td>-498.610459</td>\n",
       "      <td>-497.681583</td>\n",
       "      <td>-491.902564</td>\n",
       "      <td>-488.335957</td>\n",
       "    </tr>\n",
       "    <tr>\n",
       "      <th>3</th>\n",
       "      <td>-63.249048</td>\n",
       "      <td>-35.889764</td>\n",
       "      <td>-41.317389</td>\n",
       "      <td>-47.920396</td>\n",
       "      <td>-65.881305</td>\n",
       "    </tr>\n",
       "    <tr>\n",
       "      <th>4</th>\n",
       "      <td>-116.558703</td>\n",
       "      <td>-123.696378</td>\n",
       "      <td>-127.488966</td>\n",
       "      <td>-130.997566</td>\n",
       "      <td>-146.875297</td>\n",
       "    </tr>\n",
       "  </tbody>\n",
       "</table>\n",
       "</div>"
      ],
      "text/plain": [
       "       y_test  y_hat_linear  y_hat_ridge  y_hat_lasso   y_hat_net\n",
       "0  -52.110296    -27.432663   -26.042923   -27.292987  -17.733095\n",
       "1  -35.382308    -14.149082   -19.040387   -27.425861  -38.063800\n",
       "2 -433.925695   -498.610459  -497.681583  -491.902564 -488.335957\n",
       "3  -63.249048    -35.889764   -41.317389   -47.920396  -65.881305\n",
       "4 -116.558703   -123.696378  -127.488966  -130.997566 -146.875297"
      ]
     },
     "execution_count": 57,
     "metadata": {},
     "output_type": "execute_result"
    }
   ],
   "source": [
    "df_predictions = pd.DataFrame({'y_test':y_test.reshape(-1),\n",
    "                               'y_hat_linear':y_hat_linear,\n",
    "                               'y_hat_ridge':y_hat_ridge,\n",
    "                               'y_hat_lasso':y_hat_lasso,\n",
    "                               'y_hat_net':y_hat_net})\n",
    "df_predictions.head()"
   ]
  },
  {
   "cell_type": "code",
   "execution_count": 58,
   "id": "bcc5cc50",
   "metadata": {},
   "outputs": [
    {
     "data": {
      "text/html": [
       "<div>\n",
       "<style scoped>\n",
       "    .dataframe tbody tr th:only-of-type {\n",
       "        vertical-align: middle;\n",
       "    }\n",
       "\n",
       "    .dataframe tbody tr th {\n",
       "        vertical-align: top;\n",
       "    }\n",
       "\n",
       "    .dataframe thead th {\n",
       "        text-align: right;\n",
       "    }\n",
       "</style>\n",
       "<table border=\"1\" class=\"dataframe\">\n",
       "  <thead>\n",
       "    <tr style=\"text-align: right;\">\n",
       "      <th></th>\n",
       "      <th>Order of polynomial</th>\n",
       "      <th>model_lin</th>\n",
       "      <th>model_ridge</th>\n",
       "      <th>model_lasso</th>\n",
       "      <th>model_net</th>\n",
       "    </tr>\n",
       "  </thead>\n",
       "  <tbody>\n",
       "    <tr>\n",
       "      <th>0</th>\n",
       "      <td>1</td>\n",
       "      <td>-28.340096</td>\n",
       "      <td>-19.866442</td>\n",
       "      <td>-0.000000</td>\n",
       "      <td>-0.000000</td>\n",
       "    </tr>\n",
       "    <tr>\n",
       "      <th>1</th>\n",
       "      <td>2</td>\n",
       "      <td>48.702702</td>\n",
       "      <td>41.572584</td>\n",
       "      <td>39.399324</td>\n",
       "      <td>-1.256295</td>\n",
       "    </tr>\n",
       "    <tr>\n",
       "      <th>2</th>\n",
       "      <td>3</td>\n",
       "      <td>26.016043</td>\n",
       "      <td>18.801158</td>\n",
       "      <td>0.083198</td>\n",
       "      <td>3.955978</td>\n",
       "    </tr>\n",
       "    <tr>\n",
       "      <th>3</th>\n",
       "      <td>4</td>\n",
       "      <td>-63.480220</td>\n",
       "      <td>-61.268354</td>\n",
       "      <td>-60.414810</td>\n",
       "      <td>-46.850297</td>\n",
       "    </tr>\n",
       "    <tr>\n",
       "      <th>4</th>\n",
       "      <td>5</td>\n",
       "      <td>3.173484</td>\n",
       "      <td>4.553677</td>\n",
       "      <td>8.342193</td>\n",
       "      <td>6.792650</td>\n",
       "    </tr>\n",
       "  </tbody>\n",
       "</table>\n",
       "</div>"
      ],
      "text/plain": [
       "  Order of polynomial  model_lin  model_ridge  model_lasso  model_net\n",
       "0                   1 -28.340096   -19.866442    -0.000000  -0.000000\n",
       "1                   2  48.702702    41.572584    39.399324  -1.256295\n",
       "2                   3  26.016043    18.801158     0.083198   3.955978\n",
       "3                   4 -63.480220   -61.268354   -60.414810 -46.850297\n",
       "4                   5   3.173484     4.553677     8.342193   6.792650"
      ]
     },
     "execution_count": 58,
     "metadata": {},
     "output_type": "execute_result"
    }
   ],
   "source": [
    "\n",
    "coefficients = pd.DataFrame({'Order of polynomial':['1','2','3','4','5']})\n",
    "coefficients['model_lin']= (model_linear.coef_)\n",
    "coefficients['model_ridge']= (model_ridge.coef_)\n",
    "coefficients['model_lasso']= (model_lasso.coef_)\n",
    "coefficients['model_net']= (model_net.coef_)\n",
    "coefficients"
   ]
  },
  {
   "cell_type": "code",
   "execution_count": 59,
   "id": "4633868e",
   "metadata": {},
   "outputs": [
    {
     "data": {
      "text/plain": [
       "-27.965683476721097"
      ]
     },
     "execution_count": 59,
     "metadata": {},
     "output_type": "execute_result"
    }
   ],
   "source": [
    "model_ridge.intercept_"
   ]
  },
  {
   "cell_type": "code",
   "execution_count": 60,
   "id": "0e9f567c",
   "metadata": {},
   "outputs": [
    {
     "data": {
      "text/plain": [
       "-27.561736206214135"
      ]
     },
     "execution_count": 60,
     "metadata": {},
     "output_type": "execute_result"
    }
   ],
   "source": [
    "model_lasso.intercept_"
   ]
  },
  {
   "cell_type": "code",
   "execution_count": 61,
   "id": "1b07bfcc",
   "metadata": {},
   "outputs": [],
   "source": [
    "coefff= [[-43.40922505,  11.33637161  ,72.74017468 ,-46.48216736, -14.70086315]]\n",
    "inter= [-25.32400518] #20 data points"
   ]
  },
  {
   "cell_type": "code",
   "execution_count": 62,
   "id": "f5e6f454",
   "metadata": {},
   "outputs": [],
   "source": [
    "coefff = [[-27.93812721  ,50.01264287  ,24.76543577, -63.81418432 ,  3.49299527]]\n",
    "inter = [-30.31555344] #with 70 data points"
   ]
  },
  {
   "cell_type": "markdown",
   "id": "33e8923b",
   "metadata": {},
   "source": [
    "# Performance in the test set"
   ]
  },
  {
   "cell_type": "code",
   "execution_count": 63,
   "id": "e43cc1ab",
   "metadata": {},
   "outputs": [
    {
     "data": {
      "text/plain": [
       "23.923"
      ]
     },
     "execution_count": 63,
     "metadata": {},
     "output_type": "execute_result"
    }
   ],
   "source": [
    "MSE_test = np.mean(np.square(df_predictions['y_test'] - df_predictions['y_hat_linear']))\n",
    "RMSE_test = np.sqrt(MSE_test)\n",
    "np.round(RMSE_test,3)"
   ]
  },
  {
   "cell_type": "code",
   "execution_count": 64,
   "id": "be8999d8",
   "metadata": {},
   "outputs": [
    {
     "data": {
      "text/plain": [
       "23.25825"
      ]
     },
     "execution_count": 64,
     "metadata": {},
     "output_type": "execute_result"
    }
   ],
   "source": [
    "MSE_test = np.mean(np.square(df_predictions['y_test'] - df_predictions['y_hat_ridge']))\n",
    "RMSE_test = np.sqrt(MSE_test)\n",
    "np.round(RMSE_test,5)"
   ]
  },
  {
   "cell_type": "code",
   "execution_count": 65,
   "id": "804a0761",
   "metadata": {},
   "outputs": [
    {
     "data": {
      "text/plain": [
       "23.281"
      ]
     },
     "execution_count": 65,
     "metadata": {},
     "output_type": "execute_result"
    }
   ],
   "source": [
    "MSE_test = np.mean(np.square(df_predictions['y_test'] - df_predictions['y_hat_lasso']))\n",
    "RMSE_test = np.sqrt(MSE_test)\n",
    "np.round(RMSE_test,3)"
   ]
  },
  {
   "cell_type": "code",
   "execution_count": 66,
   "id": "84c4f394",
   "metadata": {},
   "outputs": [
    {
     "data": {
      "text/plain": [
       "24.5"
      ]
     },
     "execution_count": 66,
     "metadata": {},
     "output_type": "execute_result"
    }
   ],
   "source": [
    "MSE_test = np.mean(np.square(df_predictions['y_test'] - df_predictions['y_hat_net']))\n",
    "RMSE_test = np.sqrt(MSE_test)\n",
    "np.round(RMSE_test,3)"
   ]
  },
  {
   "cell_type": "markdown",
   "id": "c121af5e",
   "metadata": {},
   "source": [
    "# Plotting the regression coefficients vs alphas:"
   ]
  },
  {
   "cell_type": "code",
   "execution_count": 67,
   "id": "f10c68e5",
   "metadata": {},
   "outputs": [],
   "source": [
    "#1) Ridge regression coefficients vs alpha"
   ]
  },
  {
   "cell_type": "code",
   "execution_count": 68,
   "id": "ed57ab29",
   "metadata": {},
   "outputs": [
    {
     "data": {
      "image/png": "[encoded data removed]",
      "text/plain": [
       "<Figure size 864x360 with 1 Axes>"
      ]
     },
     "metadata": {
      "needs_background": "light"
     },
     "output_type": "display_data"
    }
   ],
   "source": [
    "alpha_ridge = 10**np.linspace(-1,8,100)\n",
    "plt.figure(figsize=(12,5))\n",
    "plt.plot(alpha_ridge,'or' )\n",
    "plt.xlabel('steps')\n",
    "plt.ylabel('alpha (lambda)')\n",
    "plt.show()"
   ]
  },
  {
   "cell_type": "code",
   "execution_count": 69,
   "id": "1cd9b514",
   "metadata": {},
   "outputs": [
    {
     "data": {
      "text/plain": [
       "(100, 5)"
      ]
     },
     "execution_count": 69,
     "metadata": {},
     "output_type": "execute_result"
    }
   ],
   "source": [
    "ridge = Ridge()\n",
    "coefs_ridge = []\n",
    "\n",
    "for i in alpha_ridge:\n",
    "    ridge.set_params(alpha = i)\n",
    "    ridge.fit(X_train, y_train)\n",
    "    coefs_ridge.append(ridge.coef_)\n",
    "    \n",
    "np.shape(coefs_ridge)"
   ]
  },
  {
   "cell_type": "code",
   "execution_count": 70,
   "id": "aeb64a1e",
   "metadata": {},
   "outputs": [
    {
     "data": {
      "image/png": "[encoded data removed]",
      "text/plain": [
       "<Figure size 864x720 with 1 Axes>"
      ]
     },
     "metadata": {
      "needs_background": "light"
     },
     "output_type": "display_data"
    }
   ],
   "source": [
    "plt.figure(figsize=(12,10))\n",
    "ax = plt.gca()\n",
    "ax.plot(alpha_ridge, coefs_ridge)\n",
    "ax.set_xscale('log')\n",
    "plt.axis('tight')\n",
    "plt.xlabel('alpha')\n",
    "plt.ylabel('weights: coefficients')\n",
    "plt.title('Ridge regression coefficients Vs. alpha')\n",
    "plt.legend(['1','2','3','4','5'])\n",
    "\n",
    "plt.show()"
   ]
  },
  {
   "cell_type": "markdown",
   "id": "135385ea",
   "metadata": {},
   "source": [
    "# Cross Validation"
   ]
  },
  {
   "cell_type": "code",
   "execution_count": 71,
   "id": "c5bb7fde",
   "metadata": {},
   "outputs": [],
   "source": [
    "#1) Optimal alpha for Ridge regression"
   ]
  },
  {
   "cell_type": "code",
   "execution_count": 72,
   "id": "a9b59fbb",
   "metadata": {},
   "outputs": [
    {
     "data": {
      "text/plain": [
       "0.1"
      ]
     },
     "execution_count": 72,
     "metadata": {},
     "output_type": "execute_result"
    }
   ],
   "source": [
    "ridgecv = RidgeCV()\n",
    "ridgecv.fit(X_train, y_train)\n",
    "ridgecv.alpha_"
   ]
  },
  {
   "cell_type": "code",
   "execution_count": 73,
   "id": "d2a8a1ff",
   "metadata": {},
   "outputs": [],
   "source": [
    "alpha_ridge_opt = ridgecv.alpha_"
   ]
  },
  {
   "cell_type": "code",
   "execution_count": 74,
   "id": "9a419daf",
   "metadata": {},
   "outputs": [],
   "source": [
    "#2)Optimal alpha for Lasso regression"
   ]
  },
  {
   "cell_type": "code",
   "execution_count": 75,
   "id": "293456bf",
   "metadata": {},
   "outputs": [
    {
     "data": {
      "text/plain": [
       "0.648933384424894"
      ]
     },
     "execution_count": 75,
     "metadata": {},
     "output_type": "execute_result"
    }
   ],
   "source": [
    "lassocv = LassoCV()\n",
    "lassocv.fit(X_train, y_train)\n",
    "lassocv.alpha_"
   ]
  },
  {
   "cell_type": "code",
   "execution_count": 76,
   "id": "7d606653",
   "metadata": {},
   "outputs": [],
   "source": [
    "alpha_lasso_opt = lassocv.alpha_"
   ]
  },
  {
   "cell_type": "code",
   "execution_count": 77,
   "id": "2246999c",
   "metadata": {},
   "outputs": [],
   "source": [
    "#3) Optimal alpha for Elastic Net regression"
   ]
  },
  {
   "cell_type": "code",
   "execution_count": 78,
   "id": "722193fd",
   "metadata": {},
   "outputs": [
    {
     "data": {
      "text/plain": [
       "1.297866768849788"
      ]
     },
     "execution_count": 78,
     "metadata": {},
     "output_type": "execute_result"
    }
   ],
   "source": [
    "elasticnetcv = ElasticNetCV()\n",
    "elasticnetcv.fit(X_train, y_train)\n",
    "elasticnetcv.alpha_"
   ]
  },
  {
   "cell_type": "code",
   "execution_count": 79,
   "id": "ccc636ef",
   "metadata": {},
   "outputs": [
    {
     "data": {
      "text/plain": [
       "0.5"
      ]
     },
     "execution_count": 79,
     "metadata": {},
     "output_type": "execute_result"
    }
   ],
   "source": [
    "elasticnetcv.l1_ratio_"
   ]
  },
  {
   "cell_type": "code",
   "execution_count": 80,
   "id": "04729f3a",
   "metadata": {},
   "outputs": [],
   "source": [
    "alpha_elasticnet_opt = elasticnetcv.alpha_"
   ]
  },
  {
   "cell_type": "code",
   "execution_count": null,
   "id": "a792f9c4",
   "metadata": {},
   "outputs": [],
   "source": []
  }
 ],
 "metadata": {
  "kernelspec": {
   "display_name": "Python 3",
   "language": "python",
   "name": "python3"
  },
  "language_info": {
   "codemirror_mode": {
    "name": "ipython",
    "version": 3
   },
   "file_extension": ".py",
   "mimetype": "text/x-python",
   "name": "python",
   "nbconvert_exporter": "python",
   "pygments_lexer": "ipython3",
   "version": "3.8.8"
  }
 },
 "nbformat": 4,
 "nbformat_minor": 5
}
