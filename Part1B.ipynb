{
 "cells": [
  {
   "cell_type": "code",
   "execution_count": 1,
   "id": "d124a762",
   "metadata": {},
   "outputs": [],
   "source": [
    "import pandas as pd\n",
    "import numpy as np\n",
    "from sklearn.linear_model import LinearRegression\n",
    "import matplotlib.pyplot as plt"
   ]
  },
  {
   "cell_type": "code",
   "execution_count": 2,
   "id": "005636bd",
   "metadata": {},
   "outputs": [
    {
     "data": {
      "text/html": [
       "<div>\n",
       "<style scoped>\n",
       "    .dataframe tbody tr th:only-of-type {\n",
       "        vertical-align: middle;\n",
       "    }\n",
       "\n",
       "    .dataframe tbody tr th {\n",
       "        vertical-align: top;\n",
       "    }\n",
       "\n",
       "    .dataframe thead th {\n",
       "        text-align: right;\n",
       "    }\n",
       "</style>\n",
       "<table border=\"1\" class=\"dataframe\">\n",
       "  <thead>\n",
       "    <tr style=\"text-align: right;\">\n",
       "      <th></th>\n",
       "      <th>x</th>\n",
       "      <th>y</th>\n",
       "    </tr>\n",
       "  </thead>\n",
       "  <tbody>\n",
       "    <tr>\n",
       "      <th>0</th>\n",
       "      <td>1.900322</td>\n",
       "      <td>-2003.639655</td>\n",
       "    </tr>\n",
       "    <tr>\n",
       "      <th>1</th>\n",
       "      <td>0.723758</td>\n",
       "      <td>340.332132</td>\n",
       "    </tr>\n",
       "    <tr>\n",
       "      <th>2</th>\n",
       "      <td>1.140267</td>\n",
       "      <td>398.966687</td>\n",
       "    </tr>\n",
       "    <tr>\n",
       "      <th>3</th>\n",
       "      <td>1.534912</td>\n",
       "      <td>-71.142376</td>\n",
       "    </tr>\n",
       "    <tr>\n",
       "      <th>4</th>\n",
       "      <td>0.324680</td>\n",
       "      <td>417.029685</td>\n",
       "    </tr>\n",
       "  </tbody>\n",
       "</table>\n",
       "</div>"
      ],
      "text/plain": [
       "          x            y\n",
       "0  1.900322 -2003.639655\n",
       "1  0.723758   340.332132\n",
       "2  1.140267   398.966687\n",
       "3  1.534912   -71.142376\n",
       "4  0.324680   417.029685"
      ]
     },
     "execution_count": 2,
     "metadata": {},
     "output_type": "execute_result"
    }
   ],
   "source": [
    "train = pd.read_csv('train.csv',names=['x','y'],header=None)\n",
    "train.head()"
   ]
  },
  {
   "cell_type": "code",
   "execution_count": 3,
   "id": "e785b6fc",
   "metadata": {},
   "outputs": [
    {
     "data": {
      "text/html": [
       "<div>\n",
       "<style scoped>\n",
       "    .dataframe tbody tr th:only-of-type {\n",
       "        vertical-align: middle;\n",
       "    }\n",
       "\n",
       "    .dataframe tbody tr th {\n",
       "        vertical-align: top;\n",
       "    }\n",
       "\n",
       "    .dataframe thead th {\n",
       "        text-align: right;\n",
       "    }\n",
       "</style>\n",
       "<table border=\"1\" class=\"dataframe\">\n",
       "  <thead>\n",
       "    <tr style=\"text-align: right;\">\n",
       "      <th></th>\n",
       "      <th>x</th>\n",
       "      <th>y</th>\n",
       "    </tr>\n",
       "  </thead>\n",
       "  <tbody>\n",
       "    <tr>\n",
       "      <th>0</th>\n",
       "      <td>0.795840</td>\n",
       "      <td>408.792672</td>\n",
       "    </tr>\n",
       "    <tr>\n",
       "      <th>1</th>\n",
       "      <td>1.395416</td>\n",
       "      <td>-16.950257</td>\n",
       "    </tr>\n",
       "    <tr>\n",
       "      <th>2</th>\n",
       "      <td>-1.666004</td>\n",
       "      <td>-570.146037</td>\n",
       "    </tr>\n",
       "    <tr>\n",
       "      <th>3</th>\n",
       "      <td>1.594650</td>\n",
       "      <td>-11.536960</td>\n",
       "    </tr>\n",
       "    <tr>\n",
       "      <th>4</th>\n",
       "      <td>-0.027547</td>\n",
       "      <td>206.243860</td>\n",
       "    </tr>\n",
       "  </tbody>\n",
       "</table>\n",
       "</div>"
      ],
      "text/plain": [
       "          x           y\n",
       "0  0.795840  408.792672\n",
       "1  1.395416  -16.950257\n",
       "2 -1.666004 -570.146037\n",
       "3  1.594650  -11.536960\n",
       "4 -0.027547  206.243860"
      ]
     },
     "execution_count": 3,
     "metadata": {},
     "output_type": "execute_result"
    }
   ],
   "source": [
    "test = pd.read_csv('test.csv',names=['x','y'],header=None)\n",
    "test.head()"
   ]
  },
  {
   "cell_type": "code",
   "execution_count": 4,
   "id": "0728e75c",
   "metadata": {},
   "outputs": [
    {
     "data": {
      "image/png": "[encoded data removed]",
      "text/plain": [
       "<Figure size 432x288 with 1 Axes>"
      ]
     },
     "metadata": {
      "needs_background": "light"
     },
     "output_type": "display_data"
    }
   ],
   "source": [
    "plt.scatter(train['x'], train['y'], color = 'blue');"
   ]
  },
  {
   "cell_type": "code",
   "execution_count": 7,
   "id": "e50bb281",
   "metadata": {},
   "outputs": [],
   "source": [
    "X_train = pd.DataFrame(train['x'])\n",
    "Y_train = pd.DataFrame(train['y'])"
   ]
  },
  {
   "cell_type": "code",
   "execution_count": 14,
   "id": "086066c5",
   "metadata": {},
   "outputs": [],
   "source": [
    "Y_train.columns =['Y']"
   ]
  },
  {
   "cell_type": "code",
   "execution_count": 8,
   "id": "9b26075f",
   "metadata": {},
   "outputs": [],
   "source": [
    "from sklearn.preprocessing import PolynomialFeatures\n",
    "poly = PolynomialFeatures(degree=20, include_bias=False)\n",
    "train_poly = poly.fit_transform(X_train)\n",
    "train_polyf = pd.DataFrame(train_poly)\n",
    "train_polyf.columns =['1','2','3','4','5','6','7','8','9','10','11','12','13','14','15','16','17','18','19','20']"
   ]
  },
  {
   "cell_type": "code",
   "execution_count": 9,
   "id": "14ef09b1",
   "metadata": {},
   "outputs": [],
   "source": [
    "from sklearn.linear_model import LinearRegression\n",
    "reg_model = LinearRegression()"
   ]
  },
  {
   "cell_type": "markdown",
   "id": "22712a8a",
   "metadata": {},
   "source": [
    "# Error Plot"
   ]
  },
  {
   "cell_type": "code",
   "execution_count": 17,
   "id": "f1e03cac",
   "metadata": {},
   "outputs": [],
   "source": [
    "def my_polynomial_regression(poly_degree):\n",
    "    i = poly_degree\n",
    "    l=['1','2','3','4','5','6','7','8','9','10','11','12','13','14','15','16','17','18','19','20']\n",
    "    reg_model.fit(train_polyf.loc[:,l[0:i]],Y_train)\n",
    "\n",
    "    X_test = pd.DataFrame(test['x'])\n",
    "    Y_test = pd.DataFrame(test['y'])\n",
    "    Y_test.columns = ['Y']\n",
    "    test_polyf = poly.fit_transform(X_test)\n",
    "    test_polyf = pd.DataFrame(test_polyf)\n",
    "\n",
    "    test_polyf.columns =['1','2','3','4','5','6','7','8','9','10','11','12','13','14','15','16','17','18','19','20']\n",
    "\n",
    "    #predictions\n",
    "    y_hat = reg_model.predict(test_polyf.loc[:,l[0:i]])\n",
    "\n",
    "    data=pd.DataFrame(y_hat)\n",
    "    data['1'] =test_polyf.loc[:,['1']]\n",
    "    data.columns = ['y_hat','X']\n",
    "\n",
    "    #Train MSE\n",
    "    Y_train_new = Y_train.copy()\n",
    "    Y_train_new['y_hat']= pd.DataFrame(reg_model.predict(train_polyf.loc[:,l[0:i]]))\n",
    "    MSE_train = np.mean(np.square(Y_train_new['Y'] - Y_train_new['y_hat']))\n",
    "    round(MSE_train,2)\n",
    "\n",
    "    #Test MSE\n",
    "    Y_test_new =Y_test.copy()\n",
    "    Y_test_new['y_hat'] = pd.DataFrame(reg_model.predict(test_polyf.loc[:,l[0:i]]))\n",
    "    MSE_test = np.mean(np.square(Y_test_new['Y']-Y_test_new['y_hat']))\n",
    "    round(MSE_test,2)\n",
    "    \n",
    "    return poly_degree, round(MSE_train,2),round(MSE_test,2)"
   ]
  },
  {
   "cell_type": "code",
   "execution_count": 18,
   "id": "7b541fac",
   "metadata": {},
   "outputs": [
    {
     "data": {
      "text/plain": [
       "(1, 501321.16, 971145.87)"
      ]
     },
     "execution_count": 18,
     "metadata": {},
     "output_type": "execute_result"
    }
   ],
   "source": [
    "my_polynomial_regression(1)"
   ]
  },
  {
   "cell_type": "code",
   "execution_count": 19,
   "id": "0bb0fea9",
   "metadata": {},
   "outputs": [
    {
     "data": {
      "text/plain": [
       "(2, 161741.39, 171861.91)"
      ]
     },
     "execution_count": 19,
     "metadata": {},
     "output_type": "execute_result"
    }
   ],
   "source": [
    "my_polynomial_regression(2)"
   ]
  },
  {
   "cell_type": "code",
   "execution_count": 20,
   "id": "1fa160c5",
   "metadata": {},
   "outputs": [
    {
     "data": {
      "text/plain": [
       "(6, 12106.79, 12701.2)"
      ]
     },
     "execution_count": 20,
     "metadata": {},
     "output_type": "execute_result"
    }
   ],
   "source": [
    "my_polynomial_regression(6)"
   ]
  },
  {
   "cell_type": "code",
   "execution_count": 43,
   "id": "3985a733",
   "metadata": {},
   "outputs": [
    {
     "data": {
      "text/html": [
       "<div>\n",
       "<style scoped>\n",
       "    .dataframe tbody tr th:only-of-type {\n",
       "        vertical-align: middle;\n",
       "    }\n",
       "\n",
       "    .dataframe tbody tr th {\n",
       "        vertical-align: top;\n",
       "    }\n",
       "\n",
       "    .dataframe thead th {\n",
       "        text-align: right;\n",
       "    }\n",
       "</style>\n",
       "<table border=\"1\" class=\"dataframe\">\n",
       "  <thead>\n",
       "    <tr style=\"text-align: right;\">\n",
       "      <th></th>\n",
       "      <th>Degree</th>\n",
       "      <th>RMSE_train</th>\n",
       "      <th>RMSE_test</th>\n",
       "    </tr>\n",
       "  </thead>\n",
       "  <tbody>\n",
       "    <tr>\n",
       "      <th>0</th>\n",
       "      <td>1</td>\n",
       "      <td>501321.16</td>\n",
       "      <td>971145.87</td>\n",
       "    </tr>\n",
       "    <tr>\n",
       "      <th>1</th>\n",
       "      <td>2</td>\n",
       "      <td>161741.39</td>\n",
       "      <td>171861.91</td>\n",
       "    </tr>\n",
       "    <tr>\n",
       "      <th>2</th>\n",
       "      <td>3</td>\n",
       "      <td>161490.84</td>\n",
       "      <td>169016.70</td>\n",
       "    </tr>\n",
       "    <tr>\n",
       "      <th>3</th>\n",
       "      <td>4</td>\n",
       "      <td>23962.84</td>\n",
       "      <td>42711.28</td>\n",
       "    </tr>\n",
       "    <tr>\n",
       "      <th>4</th>\n",
       "      <td>5</td>\n",
       "      <td>23788.62</td>\n",
       "      <td>43064.58</td>\n",
       "    </tr>\n",
       "    <tr>\n",
       "      <th>5</th>\n",
       "      <td>6</td>\n",
       "      <td>12106.79</td>\n",
       "      <td>12701.20</td>\n",
       "    </tr>\n",
       "    <tr>\n",
       "      <th>6</th>\n",
       "      <td>7</td>\n",
       "      <td>12094.37</td>\n",
       "      <td>12354.53</td>\n",
       "    </tr>\n",
       "    <tr>\n",
       "      <th>7</th>\n",
       "      <td>8</td>\n",
       "      <td>12088.68</td>\n",
       "      <td>11996.36</td>\n",
       "    </tr>\n",
       "    <tr>\n",
       "      <th>8</th>\n",
       "      <td>9</td>\n",
       "      <td>11908.37</td>\n",
       "      <td>13846.89</td>\n",
       "    </tr>\n",
       "    <tr>\n",
       "      <th>9</th>\n",
       "      <td>10</td>\n",
       "      <td>11817.28</td>\n",
       "      <td>13025.72</td>\n",
       "    </tr>\n",
       "    <tr>\n",
       "      <th>10</th>\n",
       "      <td>11</td>\n",
       "      <td>11728.31</td>\n",
       "      <td>14811.95</td>\n",
       "    </tr>\n",
       "    <tr>\n",
       "      <th>11</th>\n",
       "      <td>12</td>\n",
       "      <td>11728.28</td>\n",
       "      <td>14846.04</td>\n",
       "    </tr>\n",
       "    <tr>\n",
       "      <th>12</th>\n",
       "      <td>13</td>\n",
       "      <td>11719.67</td>\n",
       "      <td>16134.27</td>\n",
       "    </tr>\n",
       "    <tr>\n",
       "      <th>13</th>\n",
       "      <td>14</td>\n",
       "      <td>11709.73</td>\n",
       "      <td>18657.00</td>\n",
       "    </tr>\n",
       "  </tbody>\n",
       "</table>\n",
       "</div>"
      ],
      "text/plain": [
       "    Degree  RMSE_train  RMSE_test\n",
       "0        1   501321.16  971145.87\n",
       "1        2   161741.39  171861.91\n",
       "2        3   161490.84  169016.70\n",
       "3        4    23962.84   42711.28\n",
       "4        5    23788.62   43064.58\n",
       "5        6    12106.79   12701.20\n",
       "6        7    12094.37   12354.53\n",
       "7        8    12088.68   11996.36\n",
       "8        9    11908.37   13846.89\n",
       "9       10    11817.28   13025.72\n",
       "10      11    11728.31   14811.95\n",
       "11      12    11728.28   14846.04\n",
       "12      13    11719.67   16134.27\n",
       "13      14    11709.73   18657.00"
      ]
     },
     "execution_count": 43,
     "metadata": {},
     "output_type": "execute_result"
    }
   ],
   "source": [
    "returns= []\n",
    "for i in range(1,15):\n",
    "    returns.append(my_polynomial_regression(poly_degree=i))\n",
    "    \n",
    "output = pd.DataFrame(returns, columns=['Degree', 'RMSE_train', 'RMSE_test'])\n",
    "output"
   ]
  },
  {
   "cell_type": "code",
   "execution_count": 44,
   "id": "6668950b",
   "metadata": {},
   "outputs": [
    {
     "data": {
      "text/plain": [
       "<Figure size 864x576 with 0 Axes>"
      ]
     },
     "metadata": {},
     "output_type": "display_data"
    },
    {
     "data": {
      "image/png": "[encoded data removed]",
      "text/plain": [
       "<Figure size 432x288 with 1 Axes>"
      ]
     },
     "metadata": {
      "needs_background": "light"
     },
     "output_type": "display_data"
    }
   ],
   "source": [
    "plt.figure(figsize=(12,8))\n",
    "output.set_index('Degree').plot()\n",
    "plt.show()"
   ]
  },
  {
   "cell_type": "markdown",
   "id": "abd20000",
   "metadata": {},
   "source": [
    "# Fitting 8th Order Polynomial"
   ]
  },
  {
   "cell_type": "code",
   "execution_count": 48,
   "id": "892d7434",
   "metadata": {},
   "outputs": [],
   "source": [
    "l=['1','2','3','4','5','6','7','8','9','10','11','12','13','14','15','16','17','18','19','20']\n",
    "\n",
    "X_test = pd.DataFrame(test['x'])\n",
    "Y_test = pd.DataFrame(test['y'])\n",
    "test_polyf = poly.fit_transform(X_test)\n",
    "test_polyf = pd.DataFrame(test_polyf)\n",
    "\n",
    "test_polyf.columns =['1','2','3','4','5','6','7','8','9','10','11','12','13','14','15','16','17','18','19','20']\n",
    "\n",
    "y_hat = reg_model.fit(train_polyf.loc[:,l[0:8]],Y_train).predict(test_polyf.loc[:,l[0:8]])"
   ]
  },
  {
   "cell_type": "code",
   "execution_count": 52,
   "id": "99e1dce1",
   "metadata": {},
   "outputs": [],
   "source": [
    "error = np.array(Y_test)-y_hat"
   ]
  },
  {
   "cell_type": "code",
   "execution_count": 53,
   "id": "9c7296e0",
   "metadata": {},
   "outputs": [
    {
     "data": {
      "image/png": "[encoded data removed]",
      "text/plain": [
       "<Figure size 720x360 with 1 Axes>"
      ]
     },
     "metadata": {
      "needs_background": "light"
     },
     "output_type": "display_data"
    }
   ],
   "source": [
    "plt.figure(figsize=(10,5))\n",
    "plt.title(\"Noise distribution\")\n",
    "plt.hist(error,10);"
   ]
  },
  {
   "cell_type": "code",
   "execution_count": null,
   "id": "91b2924f",
   "metadata": {},
   "outputs": [],
   "source": []
  }
 ],
 "metadata": {
  "kernelspec": {
   "display_name": "Python 3",
   "language": "python",
   "name": "python3"
  },
  "language_info": {
   "codemirror_mode": {
    "name": "ipython",
    "version": 3
   },
   "file_extension": ".py",
   "mimetype": "text/x-python",
   "name": "python",
   "nbconvert_exporter": "python",
   "pygments_lexer": "ipython3",
   "version": "3.8.8"
  }
 },
 "nbformat": 4,
 "nbformat_minor": 5
}
